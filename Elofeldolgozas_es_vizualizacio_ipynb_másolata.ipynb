{
  "nbformat": 4,
  "nbformat_minor": 0,
  "metadata": {
    "colab": {
      "provenance": [],
      "include_colab_link": true
    },
    "kernelspec": {
      "name": "python3",
      "display_name": "Python 3"
    }
  },
  "cells": [
    {
      "cell_type": "markdown",
      "metadata": {
        "id": "view-in-github",
        "colab_type": "text"
      },
      "source": [
        "<a href=\"https://colab.research.google.com/github/Koncz16/IntelligensModszerekTantargy/blob/main/Elofeldolgozas_es_vizualizacio_ipynb_m%C3%A1solata.ipynb\" target=\"_parent\"><img src=\"https://colab.research.google.com/assets/colab-badge.svg\" alt=\"Open In Colab\"/></a>"
      ]
    },
    {
      "cell_type": "code",
      "metadata": {
        "id": "D7InELjanYBR"
      },
      "source": [
        "import matplotlib.pyplot as plt\n",
        "import matplotlib.image as img\n",
        "import pandas as pd\n",
        "import numpy as np\n",
        "import warnings\n",
        "warnings.filterwarnings('ignore')\n",
        "\n",
        "# %matplotlib inline ### most nem kell, de maskor jol johet :-)"
      ],
      "execution_count": null,
      "outputs": []
    },
    {
      "cell_type": "markdown",
      "metadata": {
        "id": "blil-3X3pmT3"
      },
      "source": [
        "**Adatok betöltése**"
      ]
    },
    {
      "cell_type": "code",
      "metadata": {
        "id": "Qj77JJMepfpz"
      },
      "source": [
        "data_main = pd.read_csv('http://www.biointelligence.hu/mi/fuel_data_with_errors.txt', header=0, sep='\\t')\n",
        "data = data_main.copy()"
      ],
      "execution_count": null,
      "outputs": []
    },
    {
      "cell_type": "code",
      "metadata": {
        "id": "vC20r_Vyppvf",
        "colab": {
          "base_uri": "https://localhost:8080/",
          "height": 423
        },
        "outputId": "5fa6c40b-7558-4abd-aabe-0bc2094adf63"
      },
      "source": [
        "data"
      ],
      "execution_count": null,
      "outputs": [
        {
          "output_type": "execute_result",
          "data": {
            "text/plain": [
              "           date starttime endtime  starttemp  endtemp air conditioner  trafic  \\\n",
              "0    2018.06.03     00:03   01:16       17.0     15.0             off     low   \n",
              "1    2018.06.03     08:20   09:29       19.0     24.0             off     low   \n",
              "2    2018.06.03     13:00   15:00       30.0     28.0              on  normal   \n",
              "3    2018.06.04     15:30   16:30       29.0     28.0              on  normal   \n",
              "4    2018.06.04     18:18   19:10       30.0     25.0              on  normal   \n",
              "..          ...       ...     ...        ...      ...             ...     ...   \n",
              "98   2018.09.03     22:00   22:55       21.0     19.0             off  normal   \n",
              "99   2018.09.04     06:42   07:55       16.0     17.0             off  normal   \n",
              "100  2018.09.04     20:00   21:10       17.0     16.0             off     low   \n",
              "101  2018.09.05     08:15   09:25       15.0     20.0             off  normal   \n",
              "102  2018.09.05     20:50   21:52       21.0     19.0             off     low   \n",
              "\n",
              "           route  dist  avg.cons.  speed duration fuel type      road  \\\n",
              "0        bp-dujv  69.8        4.5     57    01:13       95+  standard   \n",
              "1        dujv-bp  68.6        4.6     59    01:09       95+  standard   \n",
              "2        bp-dujv  79.5        6.0     47    01:40       95+  standard   \n",
              "3    dujv-szelid  45.2        4.3     56    00:48       95+  standard   \n",
              "4    szelid-dujv  47.5        4.7     57    00:49       95+  standard   \n",
              "..           ...   ...        ...    ...      ...       ...       ...   \n",
              "98       bp-dujv  68.2        5.3     78    00:52       95+   highway   \n",
              "99       dujv-bp  69.1        4.5     58    01:10       95+   highway   \n",
              "100      bp-dujv  71.6        4.5     65    01:05       95+   highway   \n",
              "101      dujv-bp  71.7        4.7     62    01:09       95+   highway   \n",
              "102      bp-dujv  71.6        4.8     73    00:58       95+   highway   \n",
              "\n",
              "     num. persons  \n",
              "0               1  \n",
              "1               2  \n",
              "2               3  \n",
              "3               1  \n",
              "4               1  \n",
              "..            ...  \n",
              "98              1  \n",
              "99              1  \n",
              "100             1  \n",
              "101             1  \n",
              "102             1  \n",
              "\n",
              "[103 rows x 15 columns]"
            ],
            "text/html": [
              "\n",
              "  <div id=\"df-f6a54f9f-53e0-41a4-b26b-b7b253b685d0\" class=\"colab-df-container\">\n",
              "    <div>\n",
              "<style scoped>\n",
              "    .dataframe tbody tr th:only-of-type {\n",
              "        vertical-align: middle;\n",
              "    }\n",
              "\n",
              "    .dataframe tbody tr th {\n",
              "        vertical-align: top;\n",
              "    }\n",
              "\n",
              "    .dataframe thead th {\n",
              "        text-align: right;\n",
              "    }\n",
              "</style>\n",
              "<table border=\"1\" class=\"dataframe\">\n",
              "  <thead>\n",
              "    <tr style=\"text-align: right;\">\n",
              "      <th></th>\n",
              "      <th>date</th>\n",
              "      <th>starttime</th>\n",
              "      <th>endtime</th>\n",
              "      <th>starttemp</th>\n",
              "      <th>endtemp</th>\n",
              "      <th>air conditioner</th>\n",
              "      <th>trafic</th>\n",
              "      <th>route</th>\n",
              "      <th>dist</th>\n",
              "      <th>avg.cons.</th>\n",
              "      <th>speed</th>\n",
              "      <th>duration</th>\n",
              "      <th>fuel type</th>\n",
              "      <th>road</th>\n",
              "      <th>num. persons</th>\n",
              "    </tr>\n",
              "  </thead>\n",
              "  <tbody>\n",
              "    <tr>\n",
              "      <th>0</th>\n",
              "      <td>2018.06.03</td>\n",
              "      <td>00:03</td>\n",
              "      <td>01:16</td>\n",
              "      <td>17.0</td>\n",
              "      <td>15.0</td>\n",
              "      <td>off</td>\n",
              "      <td>low</td>\n",
              "      <td>bp-dujv</td>\n",
              "      <td>69.8</td>\n",
              "      <td>4.5</td>\n",
              "      <td>57</td>\n",
              "      <td>01:13</td>\n",
              "      <td>95+</td>\n",
              "      <td>standard</td>\n",
              "      <td>1</td>\n",
              "    </tr>\n",
              "    <tr>\n",
              "      <th>1</th>\n",
              "      <td>2018.06.03</td>\n",
              "      <td>08:20</td>\n",
              "      <td>09:29</td>\n",
              "      <td>19.0</td>\n",
              "      <td>24.0</td>\n",
              "      <td>off</td>\n",
              "      <td>low</td>\n",
              "      <td>dujv-bp</td>\n",
              "      <td>68.6</td>\n",
              "      <td>4.6</td>\n",
              "      <td>59</td>\n",
              "      <td>01:09</td>\n",
              "      <td>95+</td>\n",
              "      <td>standard</td>\n",
              "      <td>2</td>\n",
              "    </tr>\n",
              "    <tr>\n",
              "      <th>2</th>\n",
              "      <td>2018.06.03</td>\n",
              "      <td>13:00</td>\n",
              "      <td>15:00</td>\n",
              "      <td>30.0</td>\n",
              "      <td>28.0</td>\n",
              "      <td>on</td>\n",
              "      <td>normal</td>\n",
              "      <td>bp-dujv</td>\n",
              "      <td>79.5</td>\n",
              "      <td>6.0</td>\n",
              "      <td>47</td>\n",
              "      <td>01:40</td>\n",
              "      <td>95+</td>\n",
              "      <td>standard</td>\n",
              "      <td>3</td>\n",
              "    </tr>\n",
              "    <tr>\n",
              "      <th>3</th>\n",
              "      <td>2018.06.04</td>\n",
              "      <td>15:30</td>\n",
              "      <td>16:30</td>\n",
              "      <td>29.0</td>\n",
              "      <td>28.0</td>\n",
              "      <td>on</td>\n",
              "      <td>normal</td>\n",
              "      <td>dujv-szelid</td>\n",
              "      <td>45.2</td>\n",
              "      <td>4.3</td>\n",
              "      <td>56</td>\n",
              "      <td>00:48</td>\n",
              "      <td>95+</td>\n",
              "      <td>standard</td>\n",
              "      <td>1</td>\n",
              "    </tr>\n",
              "    <tr>\n",
              "      <th>4</th>\n",
              "      <td>2018.06.04</td>\n",
              "      <td>18:18</td>\n",
              "      <td>19:10</td>\n",
              "      <td>30.0</td>\n",
              "      <td>25.0</td>\n",
              "      <td>on</td>\n",
              "      <td>normal</td>\n",
              "      <td>szelid-dujv</td>\n",
              "      <td>47.5</td>\n",
              "      <td>4.7</td>\n",
              "      <td>57</td>\n",
              "      <td>00:49</td>\n",
              "      <td>95+</td>\n",
              "      <td>standard</td>\n",
              "      <td>1</td>\n",
              "    </tr>\n",
              "    <tr>\n",
              "      <th>...</th>\n",
              "      <td>...</td>\n",
              "      <td>...</td>\n",
              "      <td>...</td>\n",
              "      <td>...</td>\n",
              "      <td>...</td>\n",
              "      <td>...</td>\n",
              "      <td>...</td>\n",
              "      <td>...</td>\n",
              "      <td>...</td>\n",
              "      <td>...</td>\n",
              "      <td>...</td>\n",
              "      <td>...</td>\n",
              "      <td>...</td>\n",
              "      <td>...</td>\n",
              "      <td>...</td>\n",
              "    </tr>\n",
              "    <tr>\n",
              "      <th>98</th>\n",
              "      <td>2018.09.03</td>\n",
              "      <td>22:00</td>\n",
              "      <td>22:55</td>\n",
              "      <td>21.0</td>\n",
              "      <td>19.0</td>\n",
              "      <td>off</td>\n",
              "      <td>normal</td>\n",
              "      <td>bp-dujv</td>\n",
              "      <td>68.2</td>\n",
              "      <td>5.3</td>\n",
              "      <td>78</td>\n",
              "      <td>00:52</td>\n",
              "      <td>95+</td>\n",
              "      <td>highway</td>\n",
              "      <td>1</td>\n",
              "    </tr>\n",
              "    <tr>\n",
              "      <th>99</th>\n",
              "      <td>2018.09.04</td>\n",
              "      <td>06:42</td>\n",
              "      <td>07:55</td>\n",
              "      <td>16.0</td>\n",
              "      <td>17.0</td>\n",
              "      <td>off</td>\n",
              "      <td>normal</td>\n",
              "      <td>dujv-bp</td>\n",
              "      <td>69.1</td>\n",
              "      <td>4.5</td>\n",
              "      <td>58</td>\n",
              "      <td>01:10</td>\n",
              "      <td>95+</td>\n",
              "      <td>highway</td>\n",
              "      <td>1</td>\n",
              "    </tr>\n",
              "    <tr>\n",
              "      <th>100</th>\n",
              "      <td>2018.09.04</td>\n",
              "      <td>20:00</td>\n",
              "      <td>21:10</td>\n",
              "      <td>17.0</td>\n",
              "      <td>16.0</td>\n",
              "      <td>off</td>\n",
              "      <td>low</td>\n",
              "      <td>bp-dujv</td>\n",
              "      <td>71.6</td>\n",
              "      <td>4.5</td>\n",
              "      <td>65</td>\n",
              "      <td>01:05</td>\n",
              "      <td>95+</td>\n",
              "      <td>highway</td>\n",
              "      <td>1</td>\n",
              "    </tr>\n",
              "    <tr>\n",
              "      <th>101</th>\n",
              "      <td>2018.09.05</td>\n",
              "      <td>08:15</td>\n",
              "      <td>09:25</td>\n",
              "      <td>15.0</td>\n",
              "      <td>20.0</td>\n",
              "      <td>off</td>\n",
              "      <td>normal</td>\n",
              "      <td>dujv-bp</td>\n",
              "      <td>71.7</td>\n",
              "      <td>4.7</td>\n",
              "      <td>62</td>\n",
              "      <td>01:09</td>\n",
              "      <td>95+</td>\n",
              "      <td>highway</td>\n",
              "      <td>1</td>\n",
              "    </tr>\n",
              "    <tr>\n",
              "      <th>102</th>\n",
              "      <td>2018.09.05</td>\n",
              "      <td>20:50</td>\n",
              "      <td>21:52</td>\n",
              "      <td>21.0</td>\n",
              "      <td>19.0</td>\n",
              "      <td>off</td>\n",
              "      <td>low</td>\n",
              "      <td>bp-dujv</td>\n",
              "      <td>71.6</td>\n",
              "      <td>4.8</td>\n",
              "      <td>73</td>\n",
              "      <td>00:58</td>\n",
              "      <td>95+</td>\n",
              "      <td>highway</td>\n",
              "      <td>1</td>\n",
              "    </tr>\n",
              "  </tbody>\n",
              "</table>\n",
              "<p>103 rows × 15 columns</p>\n",
              "</div>\n",
              "    <div class=\"colab-df-buttons\">\n",
              "\n",
              "  <div class=\"colab-df-container\">\n",
              "    <button class=\"colab-df-convert\" onclick=\"convertToInteractive('df-f6a54f9f-53e0-41a4-b26b-b7b253b685d0')\"\n",
              "            title=\"Convert this dataframe to an interactive table.\"\n",
              "            style=\"display:none;\">\n",
              "\n",
              "  <svg xmlns=\"http://www.w3.org/2000/svg\" height=\"24px\" viewBox=\"0 -960 960 960\">\n",
              "    <path d=\"M120-120v-720h720v720H120Zm60-500h600v-160H180v160Zm220 220h160v-160H400v160Zm0 220h160v-160H400v160ZM180-400h160v-160H180v160Zm440 0h160v-160H620v160ZM180-180h160v-160H180v160Zm440 0h160v-160H620v160Z\"/>\n",
              "  </svg>\n",
              "    </button>\n",
              "\n",
              "  <style>\n",
              "    .colab-df-container {\n",
              "      display:flex;\n",
              "      gap: 12px;\n",
              "    }\n",
              "\n",
              "    .colab-df-convert {\n",
              "      background-color: #E8F0FE;\n",
              "      border: none;\n",
              "      border-radius: 50%;\n",
              "      cursor: pointer;\n",
              "      display: none;\n",
              "      fill: #1967D2;\n",
              "      height: 32px;\n",
              "      padding: 0 0 0 0;\n",
              "      width: 32px;\n",
              "    }\n",
              "\n",
              "    .colab-df-convert:hover {\n",
              "      background-color: #E2EBFA;\n",
              "      box-shadow: 0px 1px 2px rgba(60, 64, 67, 0.3), 0px 1px 3px 1px rgba(60, 64, 67, 0.15);\n",
              "      fill: #174EA6;\n",
              "    }\n",
              "\n",
              "    .colab-df-buttons div {\n",
              "      margin-bottom: 4px;\n",
              "    }\n",
              "\n",
              "    [theme=dark] .colab-df-convert {\n",
              "      background-color: #3B4455;\n",
              "      fill: #D2E3FC;\n",
              "    }\n",
              "\n",
              "    [theme=dark] .colab-df-convert:hover {\n",
              "      background-color: #434B5C;\n",
              "      box-shadow: 0px 1px 3px 1px rgba(0, 0, 0, 0.15);\n",
              "      filter: drop-shadow(0px 1px 2px rgba(0, 0, 0, 0.3));\n",
              "      fill: #FFFFFF;\n",
              "    }\n",
              "  </style>\n",
              "\n",
              "    <script>\n",
              "      const buttonEl =\n",
              "        document.querySelector('#df-f6a54f9f-53e0-41a4-b26b-b7b253b685d0 button.colab-df-convert');\n",
              "      buttonEl.style.display =\n",
              "        google.colab.kernel.accessAllowed ? 'block' : 'none';\n",
              "\n",
              "      async function convertToInteractive(key) {\n",
              "        const element = document.querySelector('#df-f6a54f9f-53e0-41a4-b26b-b7b253b685d0');\n",
              "        const dataTable =\n",
              "          await google.colab.kernel.invokeFunction('convertToInteractive',\n",
              "                                                    [key], {});\n",
              "        if (!dataTable) return;\n",
              "\n",
              "        const docLinkHtml = 'Like what you see? Visit the ' +\n",
              "          '<a target=\"_blank\" href=https://colab.research.google.com/notebooks/data_table.ipynb>data table notebook</a>'\n",
              "          + ' to learn more about interactive tables.';\n",
              "        element.innerHTML = '';\n",
              "        dataTable['output_type'] = 'display_data';\n",
              "        await google.colab.output.renderOutput(dataTable, element);\n",
              "        const docLink = document.createElement('div');\n",
              "        docLink.innerHTML = docLinkHtml;\n",
              "        element.appendChild(docLink);\n",
              "      }\n",
              "    </script>\n",
              "  </div>\n",
              "\n",
              "\n",
              "<div id=\"df-2da879a1-572a-4ea9-bb3a-88b5ef5d099e\">\n",
              "  <button class=\"colab-df-quickchart\" onclick=\"quickchart('df-2da879a1-572a-4ea9-bb3a-88b5ef5d099e')\"\n",
              "            title=\"Suggest charts\"\n",
              "            style=\"display:none;\">\n",
              "\n",
              "<svg xmlns=\"http://www.w3.org/2000/svg\" height=\"24px\"viewBox=\"0 0 24 24\"\n",
              "     width=\"24px\">\n",
              "    <g>\n",
              "        <path d=\"M19 3H5c-1.1 0-2 .9-2 2v14c0 1.1.9 2 2 2h14c1.1 0 2-.9 2-2V5c0-1.1-.9-2-2-2zM9 17H7v-7h2v7zm4 0h-2V7h2v10zm4 0h-2v-4h2v4z\"/>\n",
              "    </g>\n",
              "</svg>\n",
              "  </button>\n",
              "\n",
              "<style>\n",
              "  .colab-df-quickchart {\n",
              "      --bg-color: #E8F0FE;\n",
              "      --fill-color: #1967D2;\n",
              "      --hover-bg-color: #E2EBFA;\n",
              "      --hover-fill-color: #174EA6;\n",
              "      --disabled-fill-color: #AAA;\n",
              "      --disabled-bg-color: #DDD;\n",
              "  }\n",
              "\n",
              "  [theme=dark] .colab-df-quickchart {\n",
              "      --bg-color: #3B4455;\n",
              "      --fill-color: #D2E3FC;\n",
              "      --hover-bg-color: #434B5C;\n",
              "      --hover-fill-color: #FFFFFF;\n",
              "      --disabled-bg-color: #3B4455;\n",
              "      --disabled-fill-color: #666;\n",
              "  }\n",
              "\n",
              "  .colab-df-quickchart {\n",
              "    background-color: var(--bg-color);\n",
              "    border: none;\n",
              "    border-radius: 50%;\n",
              "    cursor: pointer;\n",
              "    display: none;\n",
              "    fill: var(--fill-color);\n",
              "    height: 32px;\n",
              "    padding: 0;\n",
              "    width: 32px;\n",
              "  }\n",
              "\n",
              "  .colab-df-quickchart:hover {\n",
              "    background-color: var(--hover-bg-color);\n",
              "    box-shadow: 0 1px 2px rgba(60, 64, 67, 0.3), 0 1px 3px 1px rgba(60, 64, 67, 0.15);\n",
              "    fill: var(--button-hover-fill-color);\n",
              "  }\n",
              "\n",
              "  .colab-df-quickchart-complete:disabled,\n",
              "  .colab-df-quickchart-complete:disabled:hover {\n",
              "    background-color: var(--disabled-bg-color);\n",
              "    fill: var(--disabled-fill-color);\n",
              "    box-shadow: none;\n",
              "  }\n",
              "\n",
              "  .colab-df-spinner {\n",
              "    border: 2px solid var(--fill-color);\n",
              "    border-color: transparent;\n",
              "    border-bottom-color: var(--fill-color);\n",
              "    animation:\n",
              "      spin 1s steps(1) infinite;\n",
              "  }\n",
              "\n",
              "  @keyframes spin {\n",
              "    0% {\n",
              "      border-color: transparent;\n",
              "      border-bottom-color: var(--fill-color);\n",
              "      border-left-color: var(--fill-color);\n",
              "    }\n",
              "    20% {\n",
              "      border-color: transparent;\n",
              "      border-left-color: var(--fill-color);\n",
              "      border-top-color: var(--fill-color);\n",
              "    }\n",
              "    30% {\n",
              "      border-color: transparent;\n",
              "      border-left-color: var(--fill-color);\n",
              "      border-top-color: var(--fill-color);\n",
              "      border-right-color: var(--fill-color);\n",
              "    }\n",
              "    40% {\n",
              "      border-color: transparent;\n",
              "      border-right-color: var(--fill-color);\n",
              "      border-top-color: var(--fill-color);\n",
              "    }\n",
              "    60% {\n",
              "      border-color: transparent;\n",
              "      border-right-color: var(--fill-color);\n",
              "    }\n",
              "    80% {\n",
              "      border-color: transparent;\n",
              "      border-right-color: var(--fill-color);\n",
              "      border-bottom-color: var(--fill-color);\n",
              "    }\n",
              "    90% {\n",
              "      border-color: transparent;\n",
              "      border-bottom-color: var(--fill-color);\n",
              "    }\n",
              "  }\n",
              "</style>\n",
              "\n",
              "  <script>\n",
              "    async function quickchart(key) {\n",
              "      const quickchartButtonEl =\n",
              "        document.querySelector('#' + key + ' button');\n",
              "      quickchartButtonEl.disabled = true;  // To prevent multiple clicks.\n",
              "      quickchartButtonEl.classList.add('colab-df-spinner');\n",
              "      try {\n",
              "        const charts = await google.colab.kernel.invokeFunction(\n",
              "            'suggestCharts', [key], {});\n",
              "      } catch (error) {\n",
              "        console.error('Error during call to suggestCharts:', error);\n",
              "      }\n",
              "      quickchartButtonEl.classList.remove('colab-df-spinner');\n",
              "      quickchartButtonEl.classList.add('colab-df-quickchart-complete');\n",
              "    }\n",
              "    (() => {\n",
              "      let quickchartButtonEl =\n",
              "        document.querySelector('#df-2da879a1-572a-4ea9-bb3a-88b5ef5d099e button');\n",
              "      quickchartButtonEl.style.display =\n",
              "        google.colab.kernel.accessAllowed ? 'block' : 'none';\n",
              "    })();\n",
              "  </script>\n",
              "</div>\n",
              "\n",
              "  <div id=\"id_cd45a2c1-6457-4d32-9370-80e3fbc96698\">\n",
              "    <style>\n",
              "      .colab-df-generate {\n",
              "        background-color: #E8F0FE;\n",
              "        border: none;\n",
              "        border-radius: 50%;\n",
              "        cursor: pointer;\n",
              "        display: none;\n",
              "        fill: #1967D2;\n",
              "        height: 32px;\n",
              "        padding: 0 0 0 0;\n",
              "        width: 32px;\n",
              "      }\n",
              "\n",
              "      .colab-df-generate:hover {\n",
              "        background-color: #E2EBFA;\n",
              "        box-shadow: 0px 1px 2px rgba(60, 64, 67, 0.3), 0px 1px 3px 1px rgba(60, 64, 67, 0.15);\n",
              "        fill: #174EA6;\n",
              "      }\n",
              "\n",
              "      [theme=dark] .colab-df-generate {\n",
              "        background-color: #3B4455;\n",
              "        fill: #D2E3FC;\n",
              "      }\n",
              "\n",
              "      [theme=dark] .colab-df-generate:hover {\n",
              "        background-color: #434B5C;\n",
              "        box-shadow: 0px 1px 3px 1px rgba(0, 0, 0, 0.15);\n",
              "        filter: drop-shadow(0px 1px 2px rgba(0, 0, 0, 0.3));\n",
              "        fill: #FFFFFF;\n",
              "      }\n",
              "    </style>\n",
              "    <button class=\"colab-df-generate\" onclick=\"generateWithVariable('data')\"\n",
              "            title=\"Generate code using this dataframe.\"\n",
              "            style=\"display:none;\">\n",
              "\n",
              "  <svg xmlns=\"http://www.w3.org/2000/svg\" height=\"24px\"viewBox=\"0 0 24 24\"\n",
              "       width=\"24px\">\n",
              "    <path d=\"M7,19H8.4L18.45,9,17,7.55,7,17.6ZM5,21V16.75L18.45,3.32a2,2,0,0,1,2.83,0l1.4,1.43a1.91,1.91,0,0,1,.58,1.4,1.91,1.91,0,0,1-.58,1.4L9.25,21ZM18.45,9,17,7.55Zm-12,3A5.31,5.31,0,0,0,4.9,8.1,5.31,5.31,0,0,0,1,6.5,5.31,5.31,0,0,0,4.9,4.9,5.31,5.31,0,0,0,6.5,1,5.31,5.31,0,0,0,8.1,4.9,5.31,5.31,0,0,0,12,6.5,5.46,5.46,0,0,0,6.5,12Z\"/>\n",
              "  </svg>\n",
              "    </button>\n",
              "    <script>\n",
              "      (() => {\n",
              "      const buttonEl =\n",
              "        document.querySelector('#id_cd45a2c1-6457-4d32-9370-80e3fbc96698 button.colab-df-generate');\n",
              "      buttonEl.style.display =\n",
              "        google.colab.kernel.accessAllowed ? 'block' : 'none';\n",
              "\n",
              "      buttonEl.onclick = () => {\n",
              "        google.colab.notebook.generateWithVariable('data');\n",
              "      }\n",
              "      })();\n",
              "    </script>\n",
              "  </div>\n",
              "\n",
              "    </div>\n",
              "  </div>\n"
            ],
            "application/vnd.google.colaboratory.intrinsic+json": {
              "type": "dataframe",
              "variable_name": "data",
              "summary": "{\n  \"name\": \"data\",\n  \"rows\": 103,\n  \"fields\": [\n    {\n      \"column\": \"date\",\n      \"properties\": {\n        \"dtype\": \"object\",\n        \"num_unique_values\": 56,\n        \"samples\": [\n          \"2018.06.03\",\n          \"2018.06.10\",\n          \"2018.07.26\"\n        ],\n        \"semantic_type\": \"\",\n        \"description\": \"\"\n      }\n    },\n    {\n      \"column\": \"starttime\",\n      \"properties\": {\n        \"dtype\": \"object\",\n        \"num_unique_values\": 79,\n        \"samples\": [\n          \"08:00\",\n          \"00:03\",\n          \"18:15\"\n        ],\n        \"semantic_type\": \"\",\n        \"description\": \"\"\n      }\n    },\n    {\n      \"column\": \"endtime\",\n      \"properties\": {\n        \"dtype\": \"object\",\n        \"num_unique_values\": 90,\n        \"samples\": [\n          \"18:50\",\n          \"19:35\",\n          \"06:47\"\n        ],\n        \"semantic_type\": \"\",\n        \"description\": \"\"\n      }\n    },\n    {\n      \"column\": \"starttemp\",\n      \"properties\": {\n        \"dtype\": \"number\",\n        \"std\": 5.578514054983217,\n        \"min\": 11.0,\n        \"max\": 33.0,\n        \"num_unique_values\": 21,\n        \"samples\": [\n          17.0,\n          33.0,\n          27.0\n        ],\n        \"semantic_type\": \"\",\n        \"description\": \"\"\n      }\n    },\n    {\n      \"column\": \"endtemp\",\n      \"properties\": {\n        \"dtype\": \"number\",\n        \"std\": 18.322102592599173,\n        \"min\": 12.0,\n        \"max\": 200.0,\n        \"num_unique_values\": 20,\n        \"samples\": [\n          15.0,\n          12.0,\n          20.0\n        ],\n        \"semantic_type\": \"\",\n        \"description\": \"\"\n      }\n    },\n    {\n      \"column\": \"air conditioner\",\n      \"properties\": {\n        \"dtype\": \"category\",\n        \"num_unique_values\": 5,\n        \"samples\": [\n          \"on\",\n          \"onn\",\n          \"oof\"\n        ],\n        \"semantic_type\": \"\",\n        \"description\": \"\"\n      }\n    },\n    {\n      \"column\": \"trafic\",\n      \"properties\": {\n        \"dtype\": \"category\",\n        \"num_unique_values\": 5,\n        \"samples\": [\n          \"normal\",\n          \"high\",\n          \"traffic jam + normal\"\n        ],\n        \"semantic_type\": \"\",\n        \"description\": \"\"\n      }\n    },\n    {\n      \"column\": \"route\",\n      \"properties\": {\n        \"dtype\": \"category\",\n        \"num_unique_values\": 24,\n        \"samples\": [\n          \"dujv-dunaegyhaza\",\n          \"veszprem-szfvar\",\n          \"bp-dujv\"\n        ],\n        \"semantic_type\": \"\",\n        \"description\": \"\"\n      }\n    },\n    {\n      \"column\": \"dist\",\n      \"properties\": {\n        \"dtype\": \"number\",\n        \"std\": 21.02488566715705,\n        \"min\": 0.6,\n        \"max\": 173.9,\n        \"num_unique_values\": 72,\n        \"samples\": [\n          47.5,\n          94.4,\n          70.4\n        ],\n        \"semantic_type\": \"\",\n        \"description\": \"\"\n      }\n    },\n    {\n      \"column\": \"avg.cons.\",\n      \"properties\": {\n        \"dtype\": \"number\",\n        \"std\": 1.495262523213138,\n        \"min\": 0.1,\n        \"max\": 18.1,\n        \"num_unique_values\": 26,\n        \"samples\": [\n          4.4,\n          18.1,\n          4.5\n        ],\n        \"semantic_type\": \"\",\n        \"description\": \"\"\n      }\n    },\n    {\n      \"column\": \"speed\",\n      \"properties\": {\n        \"dtype\": \"number\",\n        \"std\": 10,\n        \"min\": 1,\n        \"max\": 95,\n        \"num_unique_values\": 38,\n        \"samples\": [\n          95,\n          76,\n          58\n        ],\n        \"semantic_type\": \"\",\n        \"description\": \"\"\n      }\n    },\n    {\n      \"column\": \"duration\",\n      \"properties\": {\n        \"dtype\": \"object\",\n        \"num_unique_values\": 45,\n        \"samples\": [\n          \"01:00\",\n          \"01:31\",\n          \"01:05\"\n        ],\n        \"semantic_type\": \"\",\n        \"description\": \"\"\n      }\n    },\n    {\n      \"column\": \"fuel type\",\n      \"properties\": {\n        \"dtype\": \"category\",\n        \"num_unique_values\": 3,\n        \"samples\": [\n          \"95+\",\n          \"95FS\",\n          \"FS\"\n        ],\n        \"semantic_type\": \"\",\n        \"description\": \"\"\n      }\n    },\n    {\n      \"column\": \"road\",\n      \"properties\": {\n        \"dtype\": \"category\",\n        \"num_unique_values\": 5,\n        \"samples\": [\n          \"highway\",\n          \"hghway\",\n          \"normal\"\n        ],\n        \"semantic_type\": \"\",\n        \"description\": \"\"\n      }\n    },\n    {\n      \"column\": \"num. persons\",\n      \"properties\": {\n        \"dtype\": \"number\",\n        \"std\": 0,\n        \"min\": 1,\n        \"max\": 4,\n        \"num_unique_values\": 4,\n        \"samples\": [\n          2,\n          4,\n          1\n        ],\n        \"semantic_type\": \"\",\n        \"description\": \"\"\n      }\n    }\n  ]\n}"
            }
          },
          "metadata": {},
          "execution_count": 67
        }
      ]
    },
    {
      "cell_type": "markdown",
      "metadata": {
        "id": "W9_WPPF2rFRX"
      },
      "source": [
        "**DataFrame oszlopai**"
      ]
    },
    {
      "cell_type": "code",
      "metadata": {
        "id": "--QsVM6Uqm9m",
        "colab": {
          "base_uri": "https://localhost:8080/",
          "height": 458
        },
        "outputId": "946f10fc-dfe1-48dd-ff40-306acca9a470"
      },
      "source": [
        "data['starttemp']  # egy oszlopra jol olvashatoan hivatkozhatunk az oszlop nevevel"
      ],
      "execution_count": null,
      "outputs": [
        {
          "output_type": "execute_result",
          "data": {
            "text/plain": [
              "0      17.0\n",
              "1      19.0\n",
              "2      30.0\n",
              "3      29.0\n",
              "4      30.0\n",
              "       ... \n",
              "98     21.0\n",
              "99     16.0\n",
              "100    17.0\n",
              "101    15.0\n",
              "102    21.0\n",
              "Name: starttemp, Length: 103, dtype: float64"
            ],
            "text/html": [
              "<div>\n",
              "<style scoped>\n",
              "    .dataframe tbody tr th:only-of-type {\n",
              "        vertical-align: middle;\n",
              "    }\n",
              "\n",
              "    .dataframe tbody tr th {\n",
              "        vertical-align: top;\n",
              "    }\n",
              "\n",
              "    .dataframe thead th {\n",
              "        text-align: right;\n",
              "    }\n",
              "</style>\n",
              "<table border=\"1\" class=\"dataframe\">\n",
              "  <thead>\n",
              "    <tr style=\"text-align: right;\">\n",
              "      <th></th>\n",
              "      <th>starttemp</th>\n",
              "    </tr>\n",
              "  </thead>\n",
              "  <tbody>\n",
              "    <tr>\n",
              "      <th>0</th>\n",
              "      <td>17.0</td>\n",
              "    </tr>\n",
              "    <tr>\n",
              "      <th>1</th>\n",
              "      <td>19.0</td>\n",
              "    </tr>\n",
              "    <tr>\n",
              "      <th>2</th>\n",
              "      <td>30.0</td>\n",
              "    </tr>\n",
              "    <tr>\n",
              "      <th>3</th>\n",
              "      <td>29.0</td>\n",
              "    </tr>\n",
              "    <tr>\n",
              "      <th>4</th>\n",
              "      <td>30.0</td>\n",
              "    </tr>\n",
              "    <tr>\n",
              "      <th>...</th>\n",
              "      <td>...</td>\n",
              "    </tr>\n",
              "    <tr>\n",
              "      <th>98</th>\n",
              "      <td>21.0</td>\n",
              "    </tr>\n",
              "    <tr>\n",
              "      <th>99</th>\n",
              "      <td>16.0</td>\n",
              "    </tr>\n",
              "    <tr>\n",
              "      <th>100</th>\n",
              "      <td>17.0</td>\n",
              "    </tr>\n",
              "    <tr>\n",
              "      <th>101</th>\n",
              "      <td>15.0</td>\n",
              "    </tr>\n",
              "    <tr>\n",
              "      <th>102</th>\n",
              "      <td>21.0</td>\n",
              "    </tr>\n",
              "  </tbody>\n",
              "</table>\n",
              "<p>103 rows × 1 columns</p>\n",
              "</div><br><label><b>dtype:</b> float64</label>"
            ]
          },
          "metadata": {},
          "execution_count": 68
        }
      ]
    },
    {
      "cell_type": "code",
      "metadata": {
        "id": "KRAIybRBre9E",
        "colab": {
          "base_uri": "https://localhost:8080/"
        },
        "outputId": "404d5aae-c572-4d74-c5d9-f3b04eb93ec9"
      },
      "source": [
        "list(data) # oszlopnevek listaja"
      ],
      "execution_count": null,
      "outputs": [
        {
          "output_type": "execute_result",
          "data": {
            "text/plain": [
              "['date',\n",
              " 'starttime',\n",
              " 'endtime',\n",
              " 'starttemp',\n",
              " 'endtemp',\n",
              " 'air conditioner',\n",
              " 'trafic',\n",
              " 'route',\n",
              " 'dist',\n",
              " 'avg.cons.',\n",
              " 'speed',\n",
              " 'duration',\n",
              " 'fuel type',\n",
              " 'road',\n",
              " 'num. persons']"
            ]
          },
          "metadata": {},
          "execution_count": 69
        }
      ]
    },
    {
      "cell_type": "markdown",
      "metadata": {
        "id": "LHBXeoyQsmWS"
      },
      "source": [
        "**Hiányzó értékek (missing values)**"
      ]
    },
    {
      "cell_type": "code",
      "metadata": {
        "id": "AQ26osxUsiPZ",
        "colab": {
          "base_uri": "https://localhost:8080/",
          "height": 458
        },
        "outputId": "353f0813-f105-4cd1-957d-eca31df2348a"
      },
      "source": [
        "data['starttemp'].isnull()\n",
        "# egy DataFrame típusú True-False vektort ad.\n",
        "# Az ertek attol fuggoen True vagy False, hogy\n",
        "# az adott peldany eeseteben a cella erteke null-e\n",
        "# (azaz hianyzo ertek-e)"
      ],
      "execution_count": null,
      "outputs": [
        {
          "output_type": "execute_result",
          "data": {
            "text/plain": [
              "0      False\n",
              "1      False\n",
              "2      False\n",
              "3      False\n",
              "4      False\n",
              "       ...  \n",
              "98     False\n",
              "99     False\n",
              "100    False\n",
              "101    False\n",
              "102    False\n",
              "Name: starttemp, Length: 103, dtype: bool"
            ],
            "text/html": [
              "<div>\n",
              "<style scoped>\n",
              "    .dataframe tbody tr th:only-of-type {\n",
              "        vertical-align: middle;\n",
              "    }\n",
              "\n",
              "    .dataframe tbody tr th {\n",
              "        vertical-align: top;\n",
              "    }\n",
              "\n",
              "    .dataframe thead th {\n",
              "        text-align: right;\n",
              "    }\n",
              "</style>\n",
              "<table border=\"1\" class=\"dataframe\">\n",
              "  <thead>\n",
              "    <tr style=\"text-align: right;\">\n",
              "      <th></th>\n",
              "      <th>starttemp</th>\n",
              "    </tr>\n",
              "  </thead>\n",
              "  <tbody>\n",
              "    <tr>\n",
              "      <th>0</th>\n",
              "      <td>False</td>\n",
              "    </tr>\n",
              "    <tr>\n",
              "      <th>1</th>\n",
              "      <td>False</td>\n",
              "    </tr>\n",
              "    <tr>\n",
              "      <th>2</th>\n",
              "      <td>False</td>\n",
              "    </tr>\n",
              "    <tr>\n",
              "      <th>3</th>\n",
              "      <td>False</td>\n",
              "    </tr>\n",
              "    <tr>\n",
              "      <th>4</th>\n",
              "      <td>False</td>\n",
              "    </tr>\n",
              "    <tr>\n",
              "      <th>...</th>\n",
              "      <td>...</td>\n",
              "    </tr>\n",
              "    <tr>\n",
              "      <th>98</th>\n",
              "      <td>False</td>\n",
              "    </tr>\n",
              "    <tr>\n",
              "      <th>99</th>\n",
              "      <td>False</td>\n",
              "    </tr>\n",
              "    <tr>\n",
              "      <th>100</th>\n",
              "      <td>False</td>\n",
              "    </tr>\n",
              "    <tr>\n",
              "      <th>101</th>\n",
              "      <td>False</td>\n",
              "    </tr>\n",
              "    <tr>\n",
              "      <th>102</th>\n",
              "      <td>False</td>\n",
              "    </tr>\n",
              "  </tbody>\n",
              "</table>\n",
              "<p>103 rows × 1 columns</p>\n",
              "</div><br><label><b>dtype:</b> bool</label>"
            ]
          },
          "metadata": {},
          "execution_count": 70
        }
      ]
    },
    {
      "cell_type": "code",
      "metadata": {
        "id": "HiL9duvwsuZY",
        "colab": {
          "base_uri": "https://localhost:8080/"
        },
        "outputId": "a7f5145e-03c2-4045-f804-2a15168a444d"
      },
      "source": [
        "data['starttemp'].isnull().sum()\n",
        "# összeadasnal: True=1, False=1\n",
        "# Igy tehat a hianyzo ertekek szamat kapjuk"
      ],
      "execution_count": null,
      "outputs": [
        {
          "output_type": "execute_result",
          "data": {
            "text/plain": [
              "5"
            ]
          },
          "metadata": {},
          "execution_count": 71
        }
      ]
    },
    {
      "cell_type": "markdown",
      "metadata": {
        "id": "XD3UFEfMt4WU"
      },
      "source": [
        "*1. feladat*\n",
        "\n",
        "Írjon egy for ciklust, amely kiszámolja és kiírja a hiányzó értékek számát minden egyes attribútumra (oszlopra). A hiányzó értékek számával együtt az oszlop nevét is írja ki."
      ]
    },
    {
      "cell_type": "code",
      "metadata": {
        "id": "TLdUgthZtzAT",
        "colab": {
          "base_uri": "https://localhost:8080/"
        },
        "outputId": "91f095cb-c21d-4723-f56e-da2d50e15b35"
      },
      "source": [
        "# ...IDE JÖN A KÓD...\n",
        "for column in list(data):\n",
        "    print(column + \": \" + str(data[column].isnull().sum()))\n",
        "\n"
      ],
      "execution_count": null,
      "outputs": [
        {
          "output_type": "stream",
          "name": "stdout",
          "text": [
            "date: 0\n",
            "starttime: 0\n",
            "endtime: 0\n",
            "starttemp: 5\n",
            "endtemp: 4\n",
            "air conditioner: 0\n",
            "trafic: 0\n",
            "route: 0\n",
            "dist: 1\n",
            "avg.cons.: 0\n",
            "speed: 0\n",
            "duration: 0\n",
            "fuel type: 0\n",
            "road: 0\n",
            "num. persons: 0\n"
          ]
        }
      ]
    },
    {
      "cell_type": "markdown",
      "metadata": {
        "id": "QxOZPlMAwdbR"
      },
      "source": [
        "*2. feladat*\n",
        "\n",
        "Készítsen másolatot az adatról, és a másolatban helyettesítse a *starttemp* oszlop hiányzó értékeit\n",
        "\n",
        "(a) a starttemp átlagos értékével,\n",
        "\n",
        "(b) a starttemp mediánjával.\n",
        "\n",
        "(c) Írjon egy for ciklust, amely az összes oszlop esetén helyettesíti a hiányzó értékeket az adott oszlop átlagával, ahol ez lehetséges!"
      ]
    },
    {
      "cell_type": "code",
      "metadata": {
        "id": "6aGU_70_ybYn",
        "colab": {
          "base_uri": "https://localhost:8080/"
        },
        "outputId": "b1eae694-a5bc-475c-e5c9-1d01be10dac7"
      },
      "source": [
        "# ...IDE JÖN A KÓD...\n",
        "\n",
        "data_a = data.copy()\n",
        "\n",
        "avg = data_a['starttemp'].mean()\n",
        "\n",
        "print(avg)\n",
        "\n",
        "data_a['starttemp'].fillna(avg, inplace=True)\n",
        "\n",
        "print(\"Hiányzó értékek szama: \"+ str(data_a['starttemp'].isnull().sum()))\n"
      ],
      "execution_count": null,
      "outputs": [
        {
          "output_type": "stream",
          "name": "stdout",
          "text": [
            "22.744897959183675\n",
            "Hiányzó értékek szama: 0\n"
          ]
        }
      ]
    },
    {
      "cell_type": "code",
      "metadata": {
        "id": "gvAu05EMymqO",
        "colab": {
          "base_uri": "https://localhost:8080/"
        },
        "outputId": "b9175513-54b6-43b4-c73f-cd5bfad1c161"
      },
      "source": [
        "# ...IDE JÖN A KÓD...\n",
        "\n",
        "data_b = data.copy()\n",
        "\n",
        "avg = data_b['starttemp'].median()\n",
        "\n",
        "print(avg)\n",
        "\n",
        "data_b['starttemp'].fillna(avg, inplace=True)\n",
        "\n",
        "print(\"Hiányzó értékek szama: \"+ str(data_b['starttemp'].isnull().sum()))\n"
      ],
      "execution_count": null,
      "outputs": [
        {
          "output_type": "stream",
          "name": "stdout",
          "text": [
            "22.0\n",
            "Hiányzó értékek szama: 0\n"
          ]
        }
      ]
    },
    {
      "cell_type": "code",
      "metadata": {
        "id": "N2nrJAH9zKPo",
        "colab": {
          "base_uri": "https://localhost:8080/"
        },
        "outputId": "e9dda685-c630-4001-de03-87d404eeb865"
      },
      "source": [
        "# ...IDE JÖN A KÓD...\n",
        "\n",
        "data_c = data.copy()\n",
        "\n",
        "for column in list(data):\n",
        "    if data_c[column].dtype in [\"float64\", \"int64\"]:\n",
        "        avg = data_c[column].mean()\n",
        "        data_c[column].fillna(avg, inplace=True)\n",
        "\n",
        "print(\"Hiányzó értékek száma oszloponként:\")\n",
        "print(data_c.isnull().sum())\n"
      ],
      "execution_count": null,
      "outputs": [
        {
          "output_type": "stream",
          "name": "stdout",
          "text": [
            "Hiányzó értékek száma oszloponként:\n",
            "date               0\n",
            "starttime          0\n",
            "endtime            0\n",
            "starttemp          0\n",
            "endtemp            0\n",
            "air conditioner    0\n",
            "trafic             0\n",
            "route              0\n",
            "dist               0\n",
            "avg.cons.          0\n",
            "speed              0\n",
            "duration           0\n",
            "fuel type          0\n",
            "road               0\n",
            "num. persons       0\n",
            "dtype: int64\n"
          ]
        }
      ]
    },
    {
      "cell_type": "markdown",
      "metadata": {
        "id": "oxPTYwfMLDeb"
      },
      "source": [
        "A következőkben egy diagramon fogjuk ábrázolni az egyes utazások esetében az induláskori és érkezéskori hőmérsékletet. Csak azokat az utazásokat fogjuk használni, ahol az eredeti adatban mind a két hőmérsékleti érték adott. Először a scatterplottal ismerkedünk."
      ]
    },
    {
      "cell_type": "code",
      "metadata": {
        "id": "ZIBg9rC8K4RD",
        "colab": {
          "base_uri": "https://localhost:8080/",
          "height": 430
        },
        "outputId": "9c0868e5-c382-4b33-b68a-4b736ab82c4a"
      },
      "source": [
        "# 1 2\n",
        "# 4 3\n",
        "# 10 8\n",
        "# 15 9\n",
        "x = [1, 4, 10, 15]\n",
        "y = [2, 3, 8, 9]\n",
        "plt.scatter(x,y);"
      ],
      "execution_count": null,
      "outputs": [
        {
          "output_type": "display_data",
          "data": {
            "text/plain": [
              "<Figure size 640x480 with 1 Axes>"
            ],
            "image/png": "[encoded data removed]"
          },
          "metadata": {}
        }
      ]
    },
    {
      "cell_type": "code",
      "metadata": {
        "id": "jNqT0w42J24_",
        "colab": {
          "base_uri": "https://localhost:8080/",
          "height": 430
        },
        "outputId": "b2684caa-fc84-47ed-a9f0-59c7e0e4938b"
      },
      "source": [
        "both_values_present = np.logical_and(data['starttemp'].isnull()==False,\n",
        "                                     data['endtemp'].isnull()==False)\n",
        "both_values_valid = np.logical_and(both_values_present, data['endtemp'] < 100)\n",
        "plt.scatter( data[both_values_valid]['starttemp'],\n",
        "            data[both_values_valid]['endtemp'] )\n",
        "plt.show()"
      ],
      "execution_count": null,
      "outputs": [
        {
          "output_type": "display_data",
          "data": {
            "text/plain": [
              "<Figure size 640x480 with 1 Axes>"
            ],
            "image/png": "[encoded data removed]"
          },
          "metadata": {}
        }
      ]
    },
    {
      "cell_type": "markdown",
      "metadata": {
        "id": "SiSOcqdBNI20"
      },
      "source": [
        "*3. feladat*\n",
        "\n",
        "Az érkezéskori hőmérséklet jobb becslés lehet az indulási hőmérsékletre, mint az összes induláskori hőmérséklet átlaga, és fordítva: amikor az érkezéskori hőmérséklet hiányzik, az induláskori hőmérséklet lehet egy jó becslés.\n",
        "\n",
        "(a) Írjon egy olyan kódot, amely ellenőrzi, hogy van-e olyan eset, amikor egyszerre hiányzik az induláskori és érkezéskori hőmérséklet!\n",
        "\n",
        "(b) Amikor az **indulási** hőmérséklet hiányzik, helyettesítse azt az érkezéskori hőmérséklettel!\n",
        "\n",
        "(c) Amikor csak az **érkezéskori** hőmérséklet hiányzik, helyettesítse azt az induláskori hőmérséklettel!\n"
      ]
    },
    {
      "cell_type": "markdown",
      "metadata": {
        "id": "6zX590J5O8dR"
      },
      "source": []
    },
    {
      "cell_type": "code",
      "source": [
        "data = data_main.copy()"
      ],
      "metadata": {
        "id": "_vgb1RVOWTV8"
      },
      "execution_count": null,
      "outputs": []
    },
    {
      "cell_type": "code",
      "metadata": {
        "id": "lBWWVmBJLYKH",
        "colab": {
          "base_uri": "https://localhost:8080/"
        },
        "outputId": "0a2bc00d-0720-4bcb-96f7-aed3574209b2"
      },
      "source": [
        "# ...IDE JÖN A KÓD...\n",
        "both_missing = data['starttemp'].isnull() & data['endtemp'].isnull()\n",
        "\n",
        "print(\"Mindketto hianyzik:\", both_missing.sum())\n"
      ],
      "execution_count": null,
      "outputs": [
        {
          "output_type": "stream",
          "name": "stdout",
          "text": [
            "Mindketto hianyzik: 0\n"
          ]
        }
      ]
    },
    {
      "cell_type": "code",
      "metadata": {
        "id": "zi7W2JF0Ngxy",
        "colab": {
          "base_uri": "https://localhost:8080/"
        },
        "outputId": "2adfde05-3bdd-43d3-d105-d7258ff5678b"
      },
      "source": [
        "# ...IDE JÖN A KÓD...\n",
        "\n",
        "data['starttemp'].fillna(data['endtemp'], inplace=True)\n",
        "\n",
        "print(\"Hianyzik az indulo:\", data['starttemp'].isnull().sum())\n"
      ],
      "execution_count": null,
      "outputs": [
        {
          "output_type": "stream",
          "name": "stdout",
          "text": [
            "Hianyzik az indulo: 0\n"
          ]
        }
      ]
    },
    {
      "cell_type": "code",
      "source": [
        "# ...IDE JÖN A KÓD...\n",
        "data['endtemp'].fillna(data['starttemp'], inplace=True)\n",
        "\n",
        "print(\"Hianyzik az erkezo:\", data['endtemp'].isnull().sum())\n"
      ],
      "metadata": {
        "colab": {
          "base_uri": "https://localhost:8080/"
        },
        "id": "oBzfr2pFRYNp",
        "outputId": "0ea0c819-7e7e-40dd-e635-988f3fba65d3"
      },
      "execution_count": null,
      "outputs": [
        {
          "output_type": "stream",
          "name": "stdout",
          "text": [
            "Hianyzik az erkezo: 0\n"
          ]
        }
      ]
    },
    {
      "cell_type": "markdown",
      "metadata": {
        "id": "nddHXHwIQa_Y"
      },
      "source": [
        "*4. feladat*\n",
        "\n",
        "Lehetséges, hogy az indulási és érkezéskori hőmérséklet különbsége összefügg azzal, hogy mikor kerül sor az utazásra (reggel nagyobb az érkezéskori hőmérséklet, este pedig kisebb). A következőkben ezt fogjuk megvizsgálni.\n",
        "\n",
        "(a) Vezessen be egy új oszlopot, ami a két hőmérséklet különbségét tartalmazza."
      ]
    },
    {
      "cell_type": "code",
      "metadata": {
        "id": "llsxAi1hOkUs",
        "colab": {
          "base_uri": "https://localhost:8080/"
        },
        "outputId": "7d63a69d-cc9f-4fa6-b189-993fc790c3f0"
      },
      "source": [
        "# ...IDE JÖN A KÓD...\n",
        "\n",
        "data['temp_diff'] = data['starttemp'] - data['endtemp']\n",
        "\n",
        "print(data[['starttemp', 'endtemp', 'temp_diff']].head(10))\n"
      ],
      "execution_count": null,
      "outputs": [
        {
          "output_type": "stream",
          "name": "stdout",
          "text": [
            "   starttemp  endtemp  temp_diff\n",
            "0       17.0     15.0        2.0\n",
            "1       19.0     24.0       -5.0\n",
            "2       30.0     28.0        2.0\n",
            "3       29.0     28.0        1.0\n",
            "4       30.0     25.0        5.0\n",
            "5       25.0     25.0        0.0\n",
            "6       25.0     25.0        0.0\n",
            "7       25.0     25.0        0.0\n",
            "8       18.0     24.0       -6.0\n",
            "9       31.0     26.0        5.0\n"
          ]
        }
      ]
    },
    {
      "cell_type": "markdown",
      "metadata": {
        "id": "6oWXKEPCRGnV"
      },
      "source": [
        "(b) Vezessen be egy új oszlopot, ami azt tartalmazza számként, hogy a nap melyik órájában kerül sor az utazásra! Ezt az információt a *starttime* oszlopban található string első két karakteréből \"hámozza ki\"."
      ]
    },
    {
      "cell_type": "code",
      "metadata": {
        "id": "0KZVeuF1RFW4",
        "colab": {
          "base_uri": "https://localhost:8080/"
        },
        "outputId": "d64f4426-5354-4f76-a8c9-7a8c90e5ea8e"
      },
      "source": [
        "# ...IDE JÖN A KÓD...\n",
        "\n",
        "data['trip_hour'] = data['starttime'].str[:2].astype(int)\n",
        "\n",
        "print(data[['starttime', 'trip_hour']].head(10))\n"
      ],
      "execution_count": null,
      "outputs": [
        {
          "output_type": "stream",
          "name": "stdout",
          "text": [
            "  starttime  trip_hour\n",
            "0     00:03          0\n",
            "1     08:20          8\n",
            "2     13:00         13\n",
            "3     15:30         15\n",
            "4     18:18         18\n",
            "5     21:04         21\n",
            "6     21:04         21\n",
            "7     21:04         21\n",
            "8     10:48         10\n",
            "9     15:22         15\n"
          ]
        }
      ]
    },
    {
      "cell_type": "markdown",
      "metadata": {
        "id": "vN-Dw_W8Rkuk"
      },
      "source": [
        "A következőkben csoportosítjuk az egyes utazásokat aszerint, hogy a nap melyik órájában kerül sor az utazásra, majd csoportonként kiszámoljuk az előbbiekben bevezetett *temp_diff* mediánját, amelyet az óra függvényében ábrázolunk."
      ]
    },
    {
      "cell_type": "code",
      "metadata": {
        "id": "Xf_S_f_gRjvl",
        "colab": {
          "base_uri": "https://localhost:8080/"
        },
        "outputId": "90a185a8-e3f7-4813-b231-a07e6789e6c4"
      },
      "source": [
        "# ...IDE JÖN A KÓD...\n",
        "\n",
        "temp_diff_by_hour = data.groupby('trip_hour')['temp_diff'].median()\n",
        "\n",
        "\n",
        "for hour, median in temp_diff_by_hour.items():\n",
        "    print(f\"{hour:<4} {median}\")"
      ],
      "execution_count": null,
      "outputs": [
        {
          "output_type": "stream",
          "name": "stdout",
          "text": [
            "0    2.0\n",
            "1    1.0\n",
            "5    -3.0\n",
            "6    -3.0\n",
            "7    -2.0\n",
            "8    -2.0\n",
            "9    -2.0\n",
            "10   0.0\n",
            "11   -2.0\n",
            "12   1.5\n",
            "13   1.0\n",
            "14   -1.5\n",
            "15   1.0\n",
            "16   3.0\n",
            "17   2.0\n",
            "18   1.0\n",
            "19   5.0\n",
            "20   2.0\n",
            "21   0.0\n",
            "22   2.0\n",
            "23   2.5\n"
          ]
        }
      ]
    },
    {
      "cell_type": "markdown",
      "metadata": {
        "id": "7tjT4knTSuCD"
      },
      "source": [
        "*5. feladat*\n",
        "\n",
        "(a) Helyettesítse a **starttemp** hiányzó értékeit az **endtemp** hozzátartozó értékével úgy, hogy közben korrigál a két hőmérséklet közötti \"szokásos\" különbséggel (az előbb kiszámolt mediánnal)!"
      ]
    },
    {
      "cell_type": "code",
      "source": [
        "data = data_main.copy()"
      ],
      "metadata": {
        "id": "_xcWInYvWE0m"
      },
      "execution_count": null,
      "outputs": []
    },
    {
      "cell_type": "code",
      "metadata": {
        "id": "5bMkr9csRc7t",
        "colab": {
          "base_uri": "https://localhost:8080/"
        },
        "outputId": "7532d59a-edef-4e19-f45a-440b75f59103"
      },
      "source": [
        "# ...IDE JÖN A KÓD...\n",
        "\n",
        "data['temp_diff'] = data['endtemp'] - data['starttemp']\n",
        "\n",
        "temp_diff_median = data['temp_diff'].median()\n",
        "\n",
        "data['starttemp'].fillna(data['endtemp'] - temp_diff_median, inplace=True)\n",
        "\n",
        "print(f\"Hianyzik az starttemp: {data['starttemp'].isnull().sum()}\")\n"
      ],
      "execution_count": null,
      "outputs": [
        {
          "output_type": "stream",
          "name": "stdout",
          "text": [
            "Hianyzik az starttemp: 0\n"
          ]
        }
      ]
    },
    {
      "cell_type": "markdown",
      "metadata": {
        "id": "9bTdPx_oTblV"
      },
      "source": [
        "(b) Helyettesítse az **endtemp** hiányzó értékeit a **starttemp** hozzátartozó értékével úgy, hogy közben korrigál a két hőmérséklet közötti \"szokásos\" különbséggel (az előbb kiszámolt mediánnal)! Miben különbözik a megoldás az előbbi részfeladat megoldásától?"
      ]
    },
    {
      "cell_type": "code",
      "metadata": {
        "id": "I21DuW54TZ5L",
        "colab": {
          "base_uri": "https://localhost:8080/"
        },
        "outputId": "fec26e54-aa6e-4750-f02b-dfb734706576"
      },
      "source": [
        "# ...IDE JÖN A KÓD...\n",
        "data['endtemp'].fillna(data['starttemp'] + temp_diff_median, inplace=True)\n",
        "\n",
        "print(f\"Hianyzik az endtemp: {data['endtemp'].isnull().sum()}\")\n"
      ],
      "execution_count": null,
      "outputs": [
        {
          "output_type": "stream",
          "name": "stdout",
          "text": [
            "Hianyzik az endtemp: 0\n"
          ]
        }
      ]
    },
    {
      "cell_type": "markdown",
      "metadata": {
        "id": "6G9clgWqUPfW"
      },
      "source": [
        "*6. feladat*\n",
        "\n",
        "Diszkusszió: hogyan töltené ki a távolság hiányzó értékét?"
      ]
    },
    {
      "cell_type": "code",
      "metadata": {
        "id": "1UGZWYPIVB0T"
      },
      "source": [
        "# ...IDE JÖN A KÓD..."
      ],
      "execution_count": null,
      "outputs": []
    },
    {
      "cell_type": "markdown",
      "metadata": {
        "id": "4K0mjCJ2sr3o"
      },
      "source": [
        "**Duplikátumok keresése**"
      ]
    },
    {
      "cell_type": "code",
      "source": [
        "data = data_main.copy()"
      ],
      "metadata": {
        "id": "fPXZekDEaGAZ"
      },
      "execution_count": null,
      "outputs": []
    },
    {
      "cell_type": "markdown",
      "metadata": {
        "id": "5BL_e7rFsykH"
      },
      "source": [
        "*7. feladat*\n",
        "\n",
        "Az úgynevezett **egzakt duplikátumok** (amikor pontosan ugyanaz a példány/rekord ismétlődik) eliminálása tipikusan két lépésben történik: az első lépésben az adatokat rendezzük, ezáltal a duplikátumok egymást követően helyezkednek el az adattáblában. A második lépésben az egymást követő példányokról döntjük el, hogy azonosak-e.\n",
        "Az esetünkben az adattábla eredetileg is rendezett.\n",
        "\n",
        "(a) Írjon egy olyan függvényt, amely az adattábla *i*-dik példányáról (*i* a függvény argumentuma) eldönti, hogy azonos-e az *(i+1)*-dik példánnyal."
      ]
    },
    {
      "cell_type": "code",
      "metadata": {
        "id": "fyaMDGCEUfLF"
      },
      "source": [
        "# ...IDE JÖN A KÓD...\n",
        "def is_duplicate(data, i):\n",
        "    return data.iloc[i].equals(data.iloc[i + 1])\n"
      ],
      "execution_count": null,
      "outputs": []
    },
    {
      "cell_type": "markdown",
      "metadata": {
        "id": "E7uAKzhUuMOz"
      },
      "source": [
        "(b) Az előbbi függvény felhasználásával írjon egy olyan szkriptet, amely az adattábla minden egyes példányáról eldönti, hogy megtartantó-e, azaz különbözik-e a következő példánytól. Eredményként egy True/False értékekből álló listát várunk, amelyben True azt jelöli, hogy a példányt megtartjuk, False pedig azt, hogy eldobjuk, mert egy másik példány azonos vele."
      ]
    },
    {
      "cell_type": "code",
      "metadata": {
        "id": "SWJYjEkWuKYG"
      },
      "source": [
        "# ...IDE JÖN A KÓD...\n",
        "\n",
        "keep = []\n",
        "for i in range(len(data)- 1):\n",
        "  if is_duplicate(data, i):\n",
        "    keep.append(False)\n",
        "  else:\n",
        "    keep.append(True)\n",
        "keep.append(True)\n",
        "\n",
        "# keep\n"
      ],
      "execution_count": null,
      "outputs": []
    },
    {
      "cell_type": "markdown",
      "metadata": {
        "id": "XoDr69gSvqZt"
      },
      "source": [
        "A deduplikált adattábla:"
      ]
    },
    {
      "cell_type": "code",
      "metadata": {
        "id": "F-IyCYdnvDRE",
        "colab": {
          "base_uri": "https://localhost:8080/",
          "height": 423
        },
        "outputId": "650fc69a-dc18-4e42-d8d8-b6ec521dc2f3"
      },
      "source": [
        "data_dedup = pd.DataFrame(data[keep])\n",
        "data_dedup\n",
        "\n"
      ],
      "execution_count": null,
      "outputs": [
        {
          "output_type": "execute_result",
          "data": {
            "text/plain": [
              "           date starttime endtime  starttemp  endtemp air conditioner  trafic  \\\n",
              "0    2018.06.03     00:03   01:16       17.0     15.0             off     low   \n",
              "1    2018.06.03     08:20   09:29       19.0     24.0             off     low   \n",
              "2    2018.06.03     13:00   15:00       30.0     28.0              on  normal   \n",
              "3    2018.06.04     15:30   16:30       29.0     28.0              on  normal   \n",
              "4    2018.06.04     18:18   19:10       30.0     25.0              on  normal   \n",
              "..          ...       ...     ...        ...      ...             ...     ...   \n",
              "98   2018.09.03     22:00   22:55       21.0     19.0             off  normal   \n",
              "99   2018.09.04     06:42   07:55       16.0     17.0             off  normal   \n",
              "100  2018.09.04     20:00   21:10       17.0     16.0             off     low   \n",
              "101  2018.09.05     08:15   09:25       15.0     20.0             off  normal   \n",
              "102  2018.09.05     20:50   21:52       21.0     19.0             off     low   \n",
              "\n",
              "           route  dist  avg.cons.  speed duration fuel type      road  \\\n",
              "0        bp-dujv  69.8        4.5     57    01:13       95+  standard   \n",
              "1        dujv-bp  68.6        4.6     59    01:09       95+  standard   \n",
              "2        bp-dujv  79.5        6.0     47    01:40       95+  standard   \n",
              "3    dujv-szelid  45.2        4.3     56    00:48       95+  standard   \n",
              "4    szelid-dujv  47.5        4.7     57    00:49       95+  standard   \n",
              "..           ...   ...        ...    ...      ...       ...       ...   \n",
              "98       bp-dujv  68.2        5.3     78    00:52       95+   highway   \n",
              "99       dujv-bp  69.1        4.5     58    01:10       95+   highway   \n",
              "100      bp-dujv  71.6        4.5     65    01:05       95+   highway   \n",
              "101      dujv-bp  71.7        4.7     62    01:09       95+   highway   \n",
              "102      bp-dujv  71.6        4.8     73    00:58       95+   highway   \n",
              "\n",
              "     num. persons  \n",
              "0               1  \n",
              "1               2  \n",
              "2               3  \n",
              "3               1  \n",
              "4               1  \n",
              "..            ...  \n",
              "98              1  \n",
              "99              1  \n",
              "100             1  \n",
              "101             1  \n",
              "102             1  \n",
              "\n",
              "[100 rows x 15 columns]"
            ],
            "text/html": [
              "\n",
              "  <div id=\"df-2c50e193-569b-47ee-9b56-603f988c3573\" class=\"colab-df-container\">\n",
              "    <div>\n",
              "<style scoped>\n",
              "    .dataframe tbody tr th:only-of-type {\n",
              "        vertical-align: middle;\n",
              "    }\n",
              "\n",
              "    .dataframe tbody tr th {\n",
              "        vertical-align: top;\n",
              "    }\n",
              "\n",
              "    .dataframe thead th {\n",
              "        text-align: right;\n",
              "    }\n",
              "</style>\n",
              "<table border=\"1\" class=\"dataframe\">\n",
              "  <thead>\n",
              "    <tr style=\"text-align: right;\">\n",
              "      <th></th>\n",
              "      <th>date</th>\n",
              "      <th>starttime</th>\n",
              "      <th>endtime</th>\n",
              "      <th>starttemp</th>\n",
              "      <th>endtemp</th>\n",
              "      <th>air conditioner</th>\n",
              "      <th>trafic</th>\n",
              "      <th>route</th>\n",
              "      <th>dist</th>\n",
              "      <th>avg.cons.</th>\n",
              "      <th>speed</th>\n",
              "      <th>duration</th>\n",
              "      <th>fuel type</th>\n",
              "      <th>road</th>\n",
              "      <th>num. persons</th>\n",
              "    </tr>\n",
              "  </thead>\n",
              "  <tbody>\n",
              "    <tr>\n",
              "      <th>0</th>\n",
              "      <td>2018.06.03</td>\n",
              "      <td>00:03</td>\n",
              "      <td>01:16</td>\n",
              "      <td>17.0</td>\n",
              "      <td>15.0</td>\n",
              "      <td>off</td>\n",
              "      <td>low</td>\n",
              "      <td>bp-dujv</td>\n",
              "      <td>69.8</td>\n",
              "      <td>4.5</td>\n",
              "      <td>57</td>\n",
              "      <td>01:13</td>\n",
              "      <td>95+</td>\n",
              "      <td>standard</td>\n",
              "      <td>1</td>\n",
              "    </tr>\n",
              "    <tr>\n",
              "      <th>1</th>\n",
              "      <td>2018.06.03</td>\n",
              "      <td>08:20</td>\n",
              "      <td>09:29</td>\n",
              "      <td>19.0</td>\n",
              "      <td>24.0</td>\n",
              "      <td>off</td>\n",
              "      <td>low</td>\n",
              "      <td>dujv-bp</td>\n",
              "      <td>68.6</td>\n",
              "      <td>4.6</td>\n",
              "      <td>59</td>\n",
              "      <td>01:09</td>\n",
              "      <td>95+</td>\n",
              "      <td>standard</td>\n",
              "      <td>2</td>\n",
              "    </tr>\n",
              "    <tr>\n",
              "      <th>2</th>\n",
              "      <td>2018.06.03</td>\n",
              "      <td>13:00</td>\n",
              "      <td>15:00</td>\n",
              "      <td>30.0</td>\n",
              "      <td>28.0</td>\n",
              "      <td>on</td>\n",
              "      <td>normal</td>\n",
              "      <td>bp-dujv</td>\n",
              "      <td>79.5</td>\n",
              "      <td>6.0</td>\n",
              "      <td>47</td>\n",
              "      <td>01:40</td>\n",
              "      <td>95+</td>\n",
              "      <td>standard</td>\n",
              "      <td>3</td>\n",
              "    </tr>\n",
              "    <tr>\n",
              "      <th>3</th>\n",
              "      <td>2018.06.04</td>\n",
              "      <td>15:30</td>\n",
              "      <td>16:30</td>\n",
              "      <td>29.0</td>\n",
              "      <td>28.0</td>\n",
              "      <td>on</td>\n",
              "      <td>normal</td>\n",
              "      <td>dujv-szelid</td>\n",
              "      <td>45.2</td>\n",
              "      <td>4.3</td>\n",
              "      <td>56</td>\n",
              "      <td>00:48</td>\n",
              "      <td>95+</td>\n",
              "      <td>standard</td>\n",
              "      <td>1</td>\n",
              "    </tr>\n",
              "    <tr>\n",
              "      <th>4</th>\n",
              "      <td>2018.06.04</td>\n",
              "      <td>18:18</td>\n",
              "      <td>19:10</td>\n",
              "      <td>30.0</td>\n",
              "      <td>25.0</td>\n",
              "      <td>on</td>\n",
              "      <td>normal</td>\n",
              "      <td>szelid-dujv</td>\n",
              "      <td>47.5</td>\n",
              "      <td>4.7</td>\n",
              "      <td>57</td>\n",
              "      <td>00:49</td>\n",
              "      <td>95+</td>\n",
              "      <td>standard</td>\n",
              "      <td>1</td>\n",
              "    </tr>\n",
              "    <tr>\n",
              "      <th>...</th>\n",
              "      <td>...</td>\n",
              "      <td>...</td>\n",
              "      <td>...</td>\n",
              "      <td>...</td>\n",
              "      <td>...</td>\n",
              "      <td>...</td>\n",
              "      <td>...</td>\n",
              "      <td>...</td>\n",
              "      <td>...</td>\n",
              "      <td>...</td>\n",
              "      <td>...</td>\n",
              "      <td>...</td>\n",
              "      <td>...</td>\n",
              "      <td>...</td>\n",
              "      <td>...</td>\n",
              "    </tr>\n",
              "    <tr>\n",
              "      <th>98</th>\n",
              "      <td>2018.09.03</td>\n",
              "      <td>22:00</td>\n",
              "      <td>22:55</td>\n",
              "      <td>21.0</td>\n",
              "      <td>19.0</td>\n",
              "      <td>off</td>\n",
              "      <td>normal</td>\n",
              "      <td>bp-dujv</td>\n",
              "      <td>68.2</td>\n",
              "      <td>5.3</td>\n",
              "      <td>78</td>\n",
              "      <td>00:52</td>\n",
              "      <td>95+</td>\n",
              "      <td>highway</td>\n",
              "      <td>1</td>\n",
              "    </tr>\n",
              "    <tr>\n",
              "      <th>99</th>\n",
              "      <td>2018.09.04</td>\n",
              "      <td>06:42</td>\n",
              "      <td>07:55</td>\n",
              "      <td>16.0</td>\n",
              "      <td>17.0</td>\n",
              "      <td>off</td>\n",
              "      <td>normal</td>\n",
              "      <td>dujv-bp</td>\n",
              "      <td>69.1</td>\n",
              "      <td>4.5</td>\n",
              "      <td>58</td>\n",
              "      <td>01:10</td>\n",
              "      <td>95+</td>\n",
              "      <td>highway</td>\n",
              "      <td>1</td>\n",
              "    </tr>\n",
              "    <tr>\n",
              "      <th>100</th>\n",
              "      <td>2018.09.04</td>\n",
              "      <td>20:00</td>\n",
              "      <td>21:10</td>\n",
              "      <td>17.0</td>\n",
              "      <td>16.0</td>\n",
              "      <td>off</td>\n",
              "      <td>low</td>\n",
              "      <td>bp-dujv</td>\n",
              "      <td>71.6</td>\n",
              "      <td>4.5</td>\n",
              "      <td>65</td>\n",
              "      <td>01:05</td>\n",
              "      <td>95+</td>\n",
              "      <td>highway</td>\n",
              "      <td>1</td>\n",
              "    </tr>\n",
              "    <tr>\n",
              "      <th>101</th>\n",
              "      <td>2018.09.05</td>\n",
              "      <td>08:15</td>\n",
              "      <td>09:25</td>\n",
              "      <td>15.0</td>\n",
              "      <td>20.0</td>\n",
              "      <td>off</td>\n",
              "      <td>normal</td>\n",
              "      <td>dujv-bp</td>\n",
              "      <td>71.7</td>\n",
              "      <td>4.7</td>\n",
              "      <td>62</td>\n",
              "      <td>01:09</td>\n",
              "      <td>95+</td>\n",
              "      <td>highway</td>\n",
              "      <td>1</td>\n",
              "    </tr>\n",
              "    <tr>\n",
              "      <th>102</th>\n",
              "      <td>2018.09.05</td>\n",
              "      <td>20:50</td>\n",
              "      <td>21:52</td>\n",
              "      <td>21.0</td>\n",
              "      <td>19.0</td>\n",
              "      <td>off</td>\n",
              "      <td>low</td>\n",
              "      <td>bp-dujv</td>\n",
              "      <td>71.6</td>\n",
              "      <td>4.8</td>\n",
              "      <td>73</td>\n",
              "      <td>00:58</td>\n",
              "      <td>95+</td>\n",
              "      <td>highway</td>\n",
              "      <td>1</td>\n",
              "    </tr>\n",
              "  </tbody>\n",
              "</table>\n",
              "<p>100 rows × 15 columns</p>\n",
              "</div>\n",
              "    <div class=\"colab-df-buttons\">\n",
              "\n",
              "  <div class=\"colab-df-container\">\n",
              "    <button class=\"colab-df-convert\" onclick=\"convertToInteractive('df-2c50e193-569b-47ee-9b56-603f988c3573')\"\n",
              "            title=\"Convert this dataframe to an interactive table.\"\n",
              "            style=\"display:none;\">\n",
              "\n",
              "  <svg xmlns=\"http://www.w3.org/2000/svg\" height=\"24px\" viewBox=\"0 -960 960 960\">\n",
              "    <path d=\"M120-120v-720h720v720H120Zm60-500h600v-160H180v160Zm220 220h160v-160H400v160Zm0 220h160v-160H400v160ZM180-400h160v-160H180v160Zm440 0h160v-160H620v160ZM180-180h160v-160H180v160Zm440 0h160v-160H620v160Z\"/>\n",
              "  </svg>\n",
              "    </button>\n",
              "\n",
              "  <style>\n",
              "    .colab-df-container {\n",
              "      display:flex;\n",
              "      gap: 12px;\n",
              "    }\n",
              "\n",
              "    .colab-df-convert {\n",
              "      background-color: #E8F0FE;\n",
              "      border: none;\n",
              "      border-radius: 50%;\n",
              "      cursor: pointer;\n",
              "      display: none;\n",
              "      fill: #1967D2;\n",
              "      height: 32px;\n",
              "      padding: 0 0 0 0;\n",
              "      width: 32px;\n",
              "    }\n",
              "\n",
              "    .colab-df-convert:hover {\n",
              "      background-color: #E2EBFA;\n",
              "      box-shadow: 0px 1px 2px rgba(60, 64, 67, 0.3), 0px 1px 3px 1px rgba(60, 64, 67, 0.15);\n",
              "      fill: #174EA6;\n",
              "    }\n",
              "\n",
              "    .colab-df-buttons div {\n",
              "      margin-bottom: 4px;\n",
              "    }\n",
              "\n",
              "    [theme=dark] .colab-df-convert {\n",
              "      background-color: #3B4455;\n",
              "      fill: #D2E3FC;\n",
              "    }\n",
              "\n",
              "    [theme=dark] .colab-df-convert:hover {\n",
              "      background-color: #434B5C;\n",
              "      box-shadow: 0px 1px 3px 1px rgba(0, 0, 0, 0.15);\n",
              "      filter: drop-shadow(0px 1px 2px rgba(0, 0, 0, 0.3));\n",
              "      fill: #FFFFFF;\n",
              "    }\n",
              "  </style>\n",
              "\n",
              "    <script>\n",
              "      const buttonEl =\n",
              "        document.querySelector('#df-2c50e193-569b-47ee-9b56-603f988c3573 button.colab-df-convert');\n",
              "      buttonEl.style.display =\n",
              "        google.colab.kernel.accessAllowed ? 'block' : 'none';\n",
              "\n",
              "      async function convertToInteractive(key) {\n",
              "        const element = document.querySelector('#df-2c50e193-569b-47ee-9b56-603f988c3573');\n",
              "        const dataTable =\n",
              "          await google.colab.kernel.invokeFunction('convertToInteractive',\n",
              "                                                    [key], {});\n",
              "        if (!dataTable) return;\n",
              "\n",
              "        const docLinkHtml = 'Like what you see? Visit the ' +\n",
              "          '<a target=\"_blank\" href=https://colab.research.google.com/notebooks/data_table.ipynb>data table notebook</a>'\n",
              "          + ' to learn more about interactive tables.';\n",
              "        element.innerHTML = '';\n",
              "        dataTable['output_type'] = 'display_data';\n",
              "        await google.colab.output.renderOutput(dataTable, element);\n",
              "        const docLink = document.createElement('div');\n",
              "        docLink.innerHTML = docLinkHtml;\n",
              "        element.appendChild(docLink);\n",
              "      }\n",
              "    </script>\n",
              "  </div>\n",
              "\n",
              "\n",
              "<div id=\"df-4eadb15f-e2fd-4c46-8e5e-d1c75b420190\">\n",
              "  <button class=\"colab-df-quickchart\" onclick=\"quickchart('df-4eadb15f-e2fd-4c46-8e5e-d1c75b420190')\"\n",
              "            title=\"Suggest charts\"\n",
              "            style=\"display:none;\">\n",
              "\n",
              "<svg xmlns=\"http://www.w3.org/2000/svg\" height=\"24px\"viewBox=\"0 0 24 24\"\n",
              "     width=\"24px\">\n",
              "    <g>\n",
              "        <path d=\"M19 3H5c-1.1 0-2 .9-2 2v14c0 1.1.9 2 2 2h14c1.1 0 2-.9 2-2V5c0-1.1-.9-2-2-2zM9 17H7v-7h2v7zm4 0h-2V7h2v10zm4 0h-2v-4h2v4z\"/>\n",
              "    </g>\n",
              "</svg>\n",
              "  </button>\n",
              "\n",
              "<style>\n",
              "  .colab-df-quickchart {\n",
              "      --bg-color: #E8F0FE;\n",
              "      --fill-color: #1967D2;\n",
              "      --hover-bg-color: #E2EBFA;\n",
              "      --hover-fill-color: #174EA6;\n",
              "      --disabled-fill-color: #AAA;\n",
              "      --disabled-bg-color: #DDD;\n",
              "  }\n",
              "\n",
              "  [theme=dark] .colab-df-quickchart {\n",
              "      --bg-color: #3B4455;\n",
              "      --fill-color: #D2E3FC;\n",
              "      --hover-bg-color: #434B5C;\n",
              "      --hover-fill-color: #FFFFFF;\n",
              "      --disabled-bg-color: #3B4455;\n",
              "      --disabled-fill-color: #666;\n",
              "  }\n",
              "\n",
              "  .colab-df-quickchart {\n",
              "    background-color: var(--bg-color);\n",
              "    border: none;\n",
              "    border-radius: 50%;\n",
              "    cursor: pointer;\n",
              "    display: none;\n",
              "    fill: var(--fill-color);\n",
              "    height: 32px;\n",
              "    padding: 0;\n",
              "    width: 32px;\n",
              "  }\n",
              "\n",
              "  .colab-df-quickchart:hover {\n",
              "    background-color: var(--hover-bg-color);\n",
              "    box-shadow: 0 1px 2px rgba(60, 64, 67, 0.3), 0 1px 3px 1px rgba(60, 64, 67, 0.15);\n",
              "    fill: var(--button-hover-fill-color);\n",
              "  }\n",
              "\n",
              "  .colab-df-quickchart-complete:disabled,\n",
              "  .colab-df-quickchart-complete:disabled:hover {\n",
              "    background-color: var(--disabled-bg-color);\n",
              "    fill: var(--disabled-fill-color);\n",
              "    box-shadow: none;\n",
              "  }\n",
              "\n",
              "  .colab-df-spinner {\n",
              "    border: 2px solid var(--fill-color);\n",
              "    border-color: transparent;\n",
              "    border-bottom-color: var(--fill-color);\n",
              "    animation:\n",
              "      spin 1s steps(1) infinite;\n",
              "  }\n",
              "\n",
              "  @keyframes spin {\n",
              "    0% {\n",
              "      border-color: transparent;\n",
              "      border-bottom-color: var(--fill-color);\n",
              "      border-left-color: var(--fill-color);\n",
              "    }\n",
              "    20% {\n",
              "      border-color: transparent;\n",
              "      border-left-color: var(--fill-color);\n",
              "      border-top-color: var(--fill-color);\n",
              "    }\n",
              "    30% {\n",
              "      border-color: transparent;\n",
              "      border-left-color: var(--fill-color);\n",
              "      border-top-color: var(--fill-color);\n",
              "      border-right-color: var(--fill-color);\n",
              "    }\n",
              "    40% {\n",
              "      border-color: transparent;\n",
              "      border-right-color: var(--fill-color);\n",
              "      border-top-color: var(--fill-color);\n",
              "    }\n",
              "    60% {\n",
              "      border-color: transparent;\n",
              "      border-right-color: var(--fill-color);\n",
              "    }\n",
              "    80% {\n",
              "      border-color: transparent;\n",
              "      border-right-color: var(--fill-color);\n",
              "      border-bottom-color: var(--fill-color);\n",
              "    }\n",
              "    90% {\n",
              "      border-color: transparent;\n",
              "      border-bottom-color: var(--fill-color);\n",
              "    }\n",
              "  }\n",
              "</style>\n",
              "\n",
              "  <script>\n",
              "    async function quickchart(key) {\n",
              "      const quickchartButtonEl =\n",
              "        document.querySelector('#' + key + ' button');\n",
              "      quickchartButtonEl.disabled = true;  // To prevent multiple clicks.\n",
              "      quickchartButtonEl.classList.add('colab-df-spinner');\n",
              "      try {\n",
              "        const charts = await google.colab.kernel.invokeFunction(\n",
              "            'suggestCharts', [key], {});\n",
              "      } catch (error) {\n",
              "        console.error('Error during call to suggestCharts:', error);\n",
              "      }\n",
              "      quickchartButtonEl.classList.remove('colab-df-spinner');\n",
              "      quickchartButtonEl.classList.add('colab-df-quickchart-complete');\n",
              "    }\n",
              "    (() => {\n",
              "      let quickchartButtonEl =\n",
              "        document.querySelector('#df-4eadb15f-e2fd-4c46-8e5e-d1c75b420190 button');\n",
              "      quickchartButtonEl.style.display =\n",
              "        google.colab.kernel.accessAllowed ? 'block' : 'none';\n",
              "    })();\n",
              "  </script>\n",
              "</div>\n",
              "\n",
              "  <div id=\"id_1088c439-567d-49d1-9708-d25f44fd9362\">\n",
              "    <style>\n",
              "      .colab-df-generate {\n",
              "        background-color: #E8F0FE;\n",
              "        border: none;\n",
              "        border-radius: 50%;\n",
              "        cursor: pointer;\n",
              "        display: none;\n",
              "        fill: #1967D2;\n",
              "        height: 32px;\n",
              "        padding: 0 0 0 0;\n",
              "        width: 32px;\n",
              "      }\n",
              "\n",
              "      .colab-df-generate:hover {\n",
              "        background-color: #E2EBFA;\n",
              "        box-shadow: 0px 1px 2px rgba(60, 64, 67, 0.3), 0px 1px 3px 1px rgba(60, 64, 67, 0.15);\n",
              "        fill: #174EA6;\n",
              "      }\n",
              "\n",
              "      [theme=dark] .colab-df-generate {\n",
              "        background-color: #3B4455;\n",
              "        fill: #D2E3FC;\n",
              "      }\n",
              "\n",
              "      [theme=dark] .colab-df-generate:hover {\n",
              "        background-color: #434B5C;\n",
              "        box-shadow: 0px 1px 3px 1px rgba(0, 0, 0, 0.15);\n",
              "        filter: drop-shadow(0px 1px 2px rgba(0, 0, 0, 0.3));\n",
              "        fill: #FFFFFF;\n",
              "      }\n",
              "    </style>\n",
              "    <button class=\"colab-df-generate\" onclick=\"generateWithVariable('data_dedup')\"\n",
              "            title=\"Generate code using this dataframe.\"\n",
              "            style=\"display:none;\">\n",
              "\n",
              "  <svg xmlns=\"http://www.w3.org/2000/svg\" height=\"24px\"viewBox=\"0 0 24 24\"\n",
              "       width=\"24px\">\n",
              "    <path d=\"M7,19H8.4L18.45,9,17,7.55,7,17.6ZM5,21V16.75L18.45,3.32a2,2,0,0,1,2.83,0l1.4,1.43a1.91,1.91,0,0,1,.58,1.4,1.91,1.91,0,0,1-.58,1.4L9.25,21ZM18.45,9,17,7.55Zm-12,3A5.31,5.31,0,0,0,4.9,8.1,5.31,5.31,0,0,0,1,6.5,5.31,5.31,0,0,0,4.9,4.9,5.31,5.31,0,0,0,6.5,1,5.31,5.31,0,0,0,8.1,4.9,5.31,5.31,0,0,0,12,6.5,5.46,5.46,0,0,0,6.5,12Z\"/>\n",
              "  </svg>\n",
              "    </button>\n",
              "    <script>\n",
              "      (() => {\n",
              "      const buttonEl =\n",
              "        document.querySelector('#id_1088c439-567d-49d1-9708-d25f44fd9362 button.colab-df-generate');\n",
              "      buttonEl.style.display =\n",
              "        google.colab.kernel.accessAllowed ? 'block' : 'none';\n",
              "\n",
              "      buttonEl.onclick = () => {\n",
              "        google.colab.notebook.generateWithVariable('data_dedup');\n",
              "      }\n",
              "      })();\n",
              "    </script>\n",
              "  </div>\n",
              "\n",
              "    </div>\n",
              "  </div>\n"
            ],
            "application/vnd.google.colaboratory.intrinsic+json": {
              "type": "dataframe",
              "variable_name": "data_dedup",
              "summary": "{\n  \"name\": \"data_dedup\",\n  \"rows\": 100,\n  \"fields\": [\n    {\n      \"column\": \"date\",\n      \"properties\": {\n        \"dtype\": \"object\",\n        \"num_unique_values\": 56,\n        \"samples\": [\n          \"2018.06.03\",\n          \"2018.06.10\",\n          \"2018.07.26\"\n        ],\n        \"semantic_type\": \"\",\n        \"description\": \"\"\n      }\n    },\n    {\n      \"column\": \"starttime\",\n      \"properties\": {\n        \"dtype\": \"object\",\n        \"num_unique_values\": 79,\n        \"samples\": [\n          \"08:00\",\n          \"00:03\",\n          \"18:15\"\n        ],\n        \"semantic_type\": \"\",\n        \"description\": \"\"\n      }\n    },\n    {\n      \"column\": \"endtime\",\n      \"properties\": {\n        \"dtype\": \"object\",\n        \"num_unique_values\": 90,\n        \"samples\": [\n          \"18:50\",\n          \"19:35\",\n          \"06:47\"\n        ],\n        \"semantic_type\": \"\",\n        \"description\": \"\"\n      }\n    },\n    {\n      \"column\": \"starttemp\",\n      \"properties\": {\n        \"dtype\": \"number\",\n        \"std\": 5.656992818552992,\n        \"min\": 11.0,\n        \"max\": 33.0,\n        \"num_unique_values\": 21,\n        \"samples\": [\n          17.0,\n          33.0,\n          27.0\n        ],\n        \"semantic_type\": \"\",\n        \"description\": \"\"\n      }\n    },\n    {\n      \"column\": \"endtemp\",\n      \"properties\": {\n        \"dtype\": \"number\",\n        \"std\": 18.605590086211727,\n        \"min\": 12.0,\n        \"max\": 200.0,\n        \"num_unique_values\": 20,\n        \"samples\": [\n          15.0,\n          12.0,\n          20.0\n        ],\n        \"semantic_type\": \"\",\n        \"description\": \"\"\n      }\n    },\n    {\n      \"column\": \"air conditioner\",\n      \"properties\": {\n        \"dtype\": \"category\",\n        \"num_unique_values\": 5,\n        \"samples\": [\n          \"on\",\n          \"onn\",\n          \"oof\"\n        ],\n        \"semantic_type\": \"\",\n        \"description\": \"\"\n      }\n    },\n    {\n      \"column\": \"trafic\",\n      \"properties\": {\n        \"dtype\": \"category\",\n        \"num_unique_values\": 5,\n        \"samples\": [\n          \"normal\",\n          \"high\",\n          \"traffic jam + normal\"\n        ],\n        \"semantic_type\": \"\",\n        \"description\": \"\"\n      }\n    },\n    {\n      \"column\": \"route\",\n      \"properties\": {\n        \"dtype\": \"category\",\n        \"num_unique_values\": 24,\n        \"samples\": [\n          \"dujv-dunaegyhaza\",\n          \"veszprem-szfvar\",\n          \"bp-dujv\"\n        ],\n        \"semantic_type\": \"\",\n        \"description\": \"\"\n      }\n    },\n    {\n      \"column\": \"dist\",\n      \"properties\": {\n        \"dtype\": \"number\",\n        \"std\": 21.331672882968704,\n        \"min\": 0.6,\n        \"max\": 173.9,\n        \"num_unique_values\": 72,\n        \"samples\": [\n          47.5,\n          94.4,\n          70.4\n        ],\n        \"semantic_type\": \"\",\n        \"description\": \"\"\n      }\n    },\n    {\n      \"column\": \"avg.cons.\",\n      \"properties\": {\n        \"dtype\": \"number\",\n        \"std\": 1.5131223988624967,\n        \"min\": 0.1,\n        \"max\": 18.1,\n        \"num_unique_values\": 26,\n        \"samples\": [\n          4.4,\n          18.1,\n          4.5\n        ],\n        \"semantic_type\": \"\",\n        \"description\": \"\"\n      }\n    },\n    {\n      \"column\": \"speed\",\n      \"properties\": {\n        \"dtype\": \"number\",\n        \"std\": 10,\n        \"min\": 1,\n        \"max\": 95,\n        \"num_unique_values\": 38,\n        \"samples\": [\n          95,\n          76,\n          58\n        ],\n        \"semantic_type\": \"\",\n        \"description\": \"\"\n      }\n    },\n    {\n      \"column\": \"duration\",\n      \"properties\": {\n        \"dtype\": \"object\",\n        \"num_unique_values\": 45,\n        \"samples\": [\n          \"01:00\",\n          \"01:31\",\n          \"01:05\"\n        ],\n        \"semantic_type\": \"\",\n        \"description\": \"\"\n      }\n    },\n    {\n      \"column\": \"fuel type\",\n      \"properties\": {\n        \"dtype\": \"category\",\n        \"num_unique_values\": 3,\n        \"samples\": [\n          \"95+\",\n          \"95FS\",\n          \"FS\"\n        ],\n        \"semantic_type\": \"\",\n        \"description\": \"\"\n      }\n    },\n    {\n      \"column\": \"road\",\n      \"properties\": {\n        \"dtype\": \"category\",\n        \"num_unique_values\": 5,\n        \"samples\": [\n          \"highway\",\n          \"hghway\",\n          \"normal\"\n        ],\n        \"semantic_type\": \"\",\n        \"description\": \"\"\n      }\n    },\n    {\n      \"column\": \"num. persons\",\n      \"properties\": {\n        \"dtype\": \"number\",\n        \"std\": 0,\n        \"min\": 1,\n        \"max\": 4,\n        \"num_unique_values\": 4,\n        \"samples\": [\n          2,\n          4,\n          1\n        ],\n        \"semantic_type\": \"\",\n        \"description\": \"\"\n      }\n    }\n  ]\n}"
            }
          },
          "metadata": {},
          "execution_count": 111
        }
      ]
    },
    {
      "cell_type": "markdown",
      "metadata": {
        "id": "6sJEVz93xPjP"
      },
      "source": [
        "**Inkonzisztens értékek**"
      ]
    },
    {
      "cell_type": "markdown",
      "metadata": {
        "id": "7KbX5nIbxF48"
      },
      "source": [
        "*8. feladat*\n",
        "\n",
        "(a) Vizsgálja meg, hogy az adattábla *air conditioner* oszlopa milyen értékeket vesz fel, melyiket hányszor. Segítség: használjon *groupby*-t és *count*-ot!"
      ]
    },
    {
      "cell_type": "code",
      "metadata": {
        "id": "u40Y5ynywqLN",
        "colab": {
          "base_uri": "https://localhost:8080/"
        },
        "outputId": "9c2d7cf1-c164-48b1-e4c0-9d51f0d6fe44"
      },
      "source": [
        "# ...IDE JÖN A KÓD...\n",
        "\n",
        "air_conditioner_counts = data.groupby('air conditioner').count()\n",
        "\n",
        "\n",
        "air_conditioner_counts = air_conditioner_counts['starttemp']  # Bármi más oszlopot is választhatunk\n",
        "\n",
        "print(air_conditioner_counts)\n",
        "\n"
      ],
      "execution_count": null,
      "outputs": [
        {
          "output_type": "stream",
          "name": "stdout",
          "text": [
            "air conditioner\n",
            "off     53\n",
            "offf     1\n",
            "on      42\n",
            "onn      1\n",
            "oof      1\n",
            "Name: starttemp, dtype: int64\n"
          ]
        }
      ]
    },
    {
      "cell_type": "markdown",
      "metadata": {
        "id": "-hGgGgRrx7a1"
      },
      "source": [
        "(b) Helyettesítse az \"offf\" értékeket \"off\"-fal!\n",
        "\n"
      ]
    },
    {
      "cell_type": "code",
      "metadata": {
        "id": "-STdUNFdxuzO",
        "colab": {
          "base_uri": "https://localhost:8080/"
        },
        "outputId": "77d3450b-51e9-4621-b348-9da53ab130a0"
      },
      "source": [
        "# ...IDE JÖN A KÓD...\n",
        "print(data['air conditioner'].unique())\n",
        "\n",
        "data['air conditioner'] = data['air conditioner'].replace('offf', 'off')\n",
        "\n",
        "print(data['air conditioner'].unique())\n"
      ],
      "execution_count": null,
      "outputs": [
        {
          "output_type": "stream",
          "name": "stdout",
          "text": [
            "['off' 'on' 'oof' 'offf' 'onn']\n",
            "['off' 'on' 'oof' 'onn']\n"
          ]
        }
      ]
    },
    {
      "cell_type": "markdown",
      "metadata": {
        "id": "0yeXxkd4yWGJ"
      },
      "source": [
        "(c) Helyettesítse az \"onn\" értékeket \"on\"-nal!"
      ]
    },
    {
      "cell_type": "code",
      "metadata": {
        "id": "n50c711cyvhN",
        "colab": {
          "base_uri": "https://localhost:8080/"
        },
        "outputId": "4bf3167e-7593-4bb5-de11-dd779c82c996"
      },
      "source": [
        "# ...IDE JÖN A KÓD...\n",
        "print(data['air conditioner'].unique())\n",
        "\n",
        "data['air conditioner'] = data['air conditioner'].replace('onn', 'on')\n",
        "\n",
        "print(data['air conditioner'].unique())"
      ],
      "execution_count": null,
      "outputs": [
        {
          "output_type": "stream",
          "name": "stdout",
          "text": [
            "['off' 'on' 'oof' 'onn']\n",
            "['off' 'on' 'oof']\n"
          ]
        }
      ]
    },
    {
      "cell_type": "markdown",
      "metadata": {
        "id": "-WhtJN-uycKM"
      },
      "source": [
        "(d) Helyettesítse az \"oof\" értékeket \"off\"-fal!"
      ]
    },
    {
      "cell_type": "code",
      "metadata": {
        "id": "e-T332NUyi8A",
        "colab": {
          "base_uri": "https://localhost:8080/"
        },
        "outputId": "7c722ae8-43bf-4939-cad5-9b6c7fc80b1d"
      },
      "source": [
        "# ...IDE JÖN A KÓD...\n",
        "print(data['air conditioner'].unique())\n",
        "\n",
        "data['air conditioner'] = data['air conditioner'].replace('oof', 'off')\n",
        "\n",
        "print(data['air conditioner'].unique())"
      ],
      "execution_count": null,
      "outputs": [
        {
          "output_type": "stream",
          "name": "stdout",
          "text": [
            "['off' 'on' 'oof']\n",
            "['off' 'on']\n"
          ]
        }
      ]
    },
    {
      "cell_type": "markdown",
      "metadata": {
        "id": "ZQvcBg0Xy1d5"
      },
      "source": [
        "**Leíró statisztikák**"
      ]
    },
    {
      "cell_type": "markdown",
      "metadata": {
        "id": "uS-FekZw41qR"
      },
      "source": [
        "Betöltjük a helyes adatokat:"
      ]
    },
    {
      "cell_type": "code",
      "metadata": {
        "id": "QharNtsA40bZ"
      },
      "source": [
        "data = pd.read_csv('http://www.biointelligence.hu/mi/fuel_data.txt', header=0, sep='\\t')"
      ],
      "execution_count": null,
      "outputs": []
    },
    {
      "cell_type": "code",
      "source": [
        "data = data_main.copy()"
      ],
      "metadata": {
        "id": "8e7NRMfjaTrW"
      },
      "execution_count": null,
      "outputs": []
    },
    {
      "cell_type": "markdown",
      "metadata": {
        "id": "tbcp1vQU55o1"
      },
      "source": [
        "*9. feladat*\n",
        "\n",
        "Számolja ki a kezdeti hőmérséklet\n",
        "\n",
        "(a) minimumát és maximumát,\n",
        "\n",
        "(b) 25%-os és 75%-os percentiliseit,\n",
        "\n",
        "(c) és szórását!\n",
        "\n",
        "(d) Írjon egy függvényt, amellyel bármelyik oszlop amplitúdója (maximumának és\n",
        "    minimumának különbsége) meghatározható!\n",
        "\n",
        "(e) Írjon egy függvényt, amely meghatározza az alsó és felső kvartilisek távolságát!\n",
        "\n",
        "(Segítség: használja a numpy függvényeit!)"
      ]
    },
    {
      "cell_type": "code",
      "metadata": {
        "id": "uqqPv6Y74_Df",
        "colab": {
          "base_uri": "https://localhost:8080/"
        },
        "outputId": "7d3c8eaa-5084-4097-bdc7-cfdfe41e8bd2"
      },
      "source": [
        "# ...IDE JÖN A KÓD... a\n",
        "min_temp = data['starttemp'].min()\n",
        "max_temp = data['starttemp'].max()\n",
        "\n",
        "print(\"Min:\", min_temp)\n",
        "print(\"Max:\", max_temp)\n",
        "\n"
      ],
      "execution_count": null,
      "outputs": [
        {
          "output_type": "stream",
          "name": "stdout",
          "text": [
            "Min: 11\n",
            "Max: 33\n"
          ]
        }
      ]
    },
    {
      "cell_type": "code",
      "metadata": {
        "id": "VxR0t-CO5_GQ",
        "colab": {
          "base_uri": "https://localhost:8080/"
        },
        "outputId": "c70b7db1-ba23-424d-c79f-9a74fbc34342"
      },
      "source": [
        "# ...IDE JÖN A KÓD... b\n",
        "\n",
        "percentile_25 = np.percentile(data['starttemp'], 25)\n",
        "percentile_75 = np.percentile(data['starttemp'], 75)\n",
        "\n",
        "print(\"25%:\", percentile_25)\n",
        "print(\"75%:\", percentile_75)\n",
        "\n"
      ],
      "execution_count": null,
      "outputs": [
        {
          "output_type": "stream",
          "name": "stdout",
          "text": [
            "25%: 18.0\n",
            "75%: 28.0\n"
          ]
        }
      ]
    },
    {
      "cell_type": "code",
      "metadata": {
        "id": "tsmWYGea6CNS",
        "colab": {
          "base_uri": "https://localhost:8080/"
        },
        "outputId": "a97df6e0-2af6-472b-d1e3-36edcd7f7e15"
      },
      "source": [
        "# ...IDE JÖN A KÓD... c\n",
        "std_dev = data['starttemp'].std()\n",
        "std_dev = data['starttemp'].std()\n",
        "\n",
        "print(\"Szoras:\", std_dev)\n",
        "\n"
      ],
      "execution_count": null,
      "outputs": [
        {
          "output_type": "stream",
          "name": "stdout",
          "text": [
            "Szoras: 5.688904671695277\n"
          ]
        }
      ]
    },
    {
      "cell_type": "code",
      "metadata": {
        "id": "4ecZc0AZ6Hox",
        "colab": {
          "base_uri": "https://localhost:8080/"
        },
        "outputId": "449397e2-1d40-43c8-cade-025fe87c4909"
      },
      "source": [
        "# ...IDE JÖN A KÓD... d\n",
        "\n",
        "def calculate_amplitude(column):\n",
        "    return column.max() - column.min()\n",
        "\n",
        "amplitude = calculate_amplitude(data['starttemp'])\n",
        "\n",
        "print(\"Ampl:\", amplitude)\n"
      ],
      "execution_count": null,
      "outputs": [
        {
          "output_type": "stream",
          "name": "stdout",
          "text": [
            "Ampl: 22\n"
          ]
        }
      ]
    },
    {
      "cell_type": "code",
      "metadata": {
        "id": "Hf6cXOTl6Pym",
        "colab": {
          "base_uri": "https://localhost:8080/"
        },
        "outputId": "32c67d19-9efd-46ae-a117-ab448be696f5"
      },
      "source": [
        "# ...IDE JÖN A KÓD... e\n",
        "\n",
        "def calculate_quartile_difference(column):\n",
        "    return percentile_75 - percentile_25\n",
        "\n",
        "\n",
        "diference = calculate_quartile_difference(data['starttemp'])\n",
        "\n",
        "print(\"Also es felso kvartilis tavolsaga:\", diference)\n"
      ],
      "execution_count": null,
      "outputs": [
        {
          "output_type": "stream",
          "name": "stdout",
          "text": [
            "Also es felso kvartilis tavolsaga: 10.0\n"
          ]
        }
      ]
    },
    {
      "cell_type": "code",
      "metadata": {
        "id": "5XNlOzkx6eOX"
      },
      "source": [
        "# ...IDE JÖN A KÓD..."
      ],
      "execution_count": null,
      "outputs": []
    },
    {
      "cell_type": "markdown",
      "metadata": {
        "id": "9WeBQGpA72TP"
      },
      "source": [
        "**Diagramok**"
      ]
    },
    {
      "cell_type": "code",
      "metadata": {
        "id": "5JNTjrey7JLh",
        "colab": {
          "base_uri": "https://localhost:8080/",
          "height": 430
        },
        "outputId": "98efa5a4-c222-4555-9afe-1e6f6b8dbdda"
      },
      "source": [
        "data[\"starttemp\"].hist();"
      ],
      "execution_count": null,
      "outputs": [
        {
          "output_type": "display_data",
          "data": {
            "text/plain": [
              "<Figure size 640x480 with 1 Axes>"
            ],
            "image/png": "[encoded data removed]"
          },
          "metadata": {}
        }
      ]
    },
    {
      "cell_type": "markdown",
      "metadata": {
        "id": "gFfEZnAI8Pk9"
      },
      "source": [
        "*10. feladat*\n",
        "\n",
        "A \"pandas DataFrame\" dokumentációját és/vagy interneten elérhető forrásokat felhasználva módosítsa az előbbi kódot úgy, hogy a hisztogram oszlopainak száma ne 10, hanem 20 legyen!"
      ]
    },
    {
      "cell_type": "code",
      "metadata": {
        "id": "tdPlaZai76nC",
        "colab": {
          "base_uri": "https://localhost:8080/",
          "height": 430
        },
        "outputId": "c54487e4-0286-47c7-eb20-534decf3aed4"
      },
      "source": [
        "# ...IDE JÖN A KÓD...\n",
        "data[\"starttemp\"].hist(bins=20,);"
      ],
      "execution_count": null,
      "outputs": [
        {
          "output_type": "display_data",
          "data": {
            "text/plain": [
              "<Figure size 640x480 with 1 Axes>"
            ],
            "image/png": "[encoded data removed]"
          },
          "metadata": {}
        }
      ]
    },
    {
      "cell_type": "markdown",
      "metadata": {
        "id": "oXGdV-iv89gm"
      },
      "source": [
        "*11. feladat*\n",
        "\n",
        "Határozza meg, hány esetben volt a légkondi\n",
        "\n",
        "(a) bekapcsolva (ac_on), illetve\n",
        "\n",
        "(b) kikapcsolva (ac_off)."
      ]
    },
    {
      "cell_type": "code",
      "metadata": {
        "id": "UqIq7rpL8pYj",
        "colab": {
          "base_uri": "https://localhost:8080/"
        },
        "outputId": "8a7fdf2a-bb86-4b76-8c6d-1434b72a452d"
      },
      "source": [
        "# ...IDE JÖN A KÓD...\n",
        "\n",
        "print(data['air conditioner'].unique())\n",
        "\n",
        "ac_on_count = air_conditioner_counts.at['on']\n",
        "\n",
        "\n",
        "print(\"AC on\" ,str(ac_on_count))"
      ],
      "execution_count": null,
      "outputs": [
        {
          "output_type": "stream",
          "name": "stdout",
          "text": [
            "['off' 'on']\n",
            "AC on 42\n"
          ]
        }
      ]
    },
    {
      "cell_type": "code",
      "metadata": {
        "id": "HvYqfZ7Z9Lvf",
        "colab": {
          "base_uri": "https://localhost:8080/"
        },
        "outputId": "f8bf2aa7-8e07-440e-97d2-944265e6b77e"
      },
      "source": [
        "# ...IDE JÖN A KÓD...\n",
        "\n",
        "print(data['air conditioner'].unique())\n",
        "\n",
        "ac_off_count = air_conditioner_counts.at['off']\n",
        "\n",
        "\n",
        "print(\"AC off\" ,str(ac_off_count))"
      ],
      "execution_count": null,
      "outputs": [
        {
          "output_type": "stream",
          "name": "stdout",
          "text": [
            "['off' 'on']\n",
            "AC off 53\n"
          ]
        }
      ]
    },
    {
      "cell_type": "markdown",
      "metadata": {
        "id": "O8I4rDCG9d-f"
      },
      "source": [
        "A következőkben a légkondi ki- és bekapcsoltságát fogjuk különböző diagramokon ábrázolni."
      ]
    },
    {
      "cell_type": "code",
      "metadata": {
        "id": "4IQM7AzS9buO",
        "colab": {
          "base_uri": "https://localhost:8080/",
          "height": 430
        },
        "outputId": "b45b1de1-0a04-4dbf-f346-f4834a7a2fdc"
      },
      "source": [
        "plt.bar([2,1], [ac_on_count, ac_off_count], tick_label=[\"bekapcs\",\"kikapcs\"], color=[\"b\",\"g\"]);\n",
        "\n",
        "# plt.show() # most nem kell, de máskor jól jöhet :-)"
      ],
      "execution_count": null,
      "outputs": [
        {
          "output_type": "display_data",
          "data": {
            "text/plain": [
              "<Figure size 640x480 with 1 Axes>"
            ],
            "image/png": "[encoded data removed]"
          },
          "metadata": {}
        }
      ]
    },
    {
      "cell_type": "code",
      "metadata": {
        "id": "zKDM8EKu-Aap",
        "colab": {
          "base_uri": "https://localhost:8080/",
          "height": 406
        },
        "outputId": "9fd99b69-48d3-4cc1-8b26-51cd2932cacf"
      },
      "source": [
        "plt.pie( [ac_on_count, ac_off_count], labels=[\"on\", \"off\"]);"
      ],
      "execution_count": null,
      "outputs": [
        {
          "output_type": "display_data",
          "data": {
            "text/plain": [
              "<Figure size 640x480 with 1 Axes>"
            ],
            "image/png": "[encoded data removed]"
          },
          "metadata": {}
        }
      ]
    },
    {
      "cell_type": "markdown",
      "metadata": {
        "id": "CG-eNBDqRitB"
      },
      "source": [
        "Kezdőhőmérséklet eloszlása boxplot-on:\n",
        "\n",
        "- középső vonal: median\n",
        "- doboz teteje: felso kvartilis (75%-os percentilis)\n",
        "- doboz alja: also kvartilis (25%-os percentilis)\n",
        "- felső vonal: median + 1.5*(interquartile range), de legfeljebb a legnagyobb érték\n",
        "- alsó vonal: median - 1.5*(interquartile range), de nem kisebb a legkisebb értéknél\n",
        "- outlierek: karikák az alsó és felső vonal alatt ill. felett\n",
        "- alsó és felső vonalnál az 1.5-ös szorzó állítható, ld. https://matplotlib.org/stable/api/_as_gen/matplotlib.pyplot.boxplot.html\n",
        "\n"
      ]
    },
    {
      "cell_type": "code",
      "metadata": {
        "id": "c8RwaluV-aeD",
        "colab": {
          "base_uri": "https://localhost:8080/",
          "height": 430
        },
        "outputId": "9f92a40f-5290-4d9c-9365-e8663e01b110"
      },
      "source": [
        "plt.boxplot(data['starttemp'], notch=True);"
      ],
      "execution_count": null,
      "outputs": [
        {
          "output_type": "display_data",
          "data": {
            "text/plain": [
              "<Figure size 640x480 with 1 Axes>"
            ],
            "image/png": "[encoded data removed]"
          },
          "metadata": {}
        }
      ]
    },
    {
      "cell_type": "code",
      "metadata": {
        "id": "Nk3aNFQ2QdNe",
        "colab": {
          "base_uri": "https://localhost:8080/",
          "height": 430
        },
        "outputId": "761f56bc-2fc5-4094-b46a-ea7e559f5c60"
      },
      "source": [
        "plt.boxplot([ data[data['fuel type'] =='95FS']['avg.cons.'],\n",
        "              data[data['fuel type'] =='95+']['avg.cons.'] ],\n",
        "              labels = ['95FS', '95+']);"
      ],
      "execution_count": null,
      "outputs": [
        {
          "output_type": "display_data",
          "data": {
            "text/plain": [
              "<Figure size 640x480 with 1 Axes>"
            ],
            "image/png": "[encoded data removed]"
          },
          "metadata": {}
        }
      ]
    },
    {
      "cell_type": "markdown",
      "metadata": {
        "id": "0rrhS4pKTT64"
      },
      "source": [
        "**Szélsőséges értékek kezelése**\n",
        "\n",
        "Egy egyszerű eljárás a szélsőséges értékek kezelésére: kihagyjuk őket. Felrajzoljuk példaként az előbbi boxplot-okat a 10l/100km-es fogyasztásnál nagyobb fogyasztásokat kihagyva."
      ]
    },
    {
      "cell_type": "code",
      "metadata": {
        "id": "nl0q6YeITCS1",
        "colab": {
          "base_uri": "https://localhost:8080/",
          "height": 430
        },
        "outputId": "b647b7d1-1c84-47f7-8c67-c73818aeadbf"
      },
      "source": [
        "plt.boxplot([ data[(data['fuel type'] =='95FS') & (data['avg.cons.']<10)]['avg.cons.'],\n",
        "              data[(data['fuel type'] =='95+')  & (data['avg.cons.']<10)]['avg.cons.'] ],\n",
        "             labels = ['95FS', '95+']);"
      ],
      "execution_count": null,
      "outputs": [
        {
          "output_type": "display_data",
          "data": {
            "text/plain": [
              "<Figure size 640x480 with 1 Axes>"
            ],
            "image/png": "[encoded data removed]"
          },
          "metadata": {}
        }
      ]
    },
    {
      "cell_type": "markdown",
      "metadata": {
        "id": "lz_xw_JdT9Tu"
      },
      "source": [
        "**Korreláció**"
      ]
    },
    {
      "cell_type": "code",
      "metadata": {
        "id": "DfmASDGUTq8u",
        "colab": {
          "base_uri": "https://localhost:8080/"
        },
        "outputId": "b4c09e17-214f-4f43-96f5-038c1becd42c"
      },
      "source": [
        "np.corrcoef(data['starttemp'], data['endtemp'])"
      ],
      "execution_count": null,
      "outputs": [
        {
          "output_type": "execute_result",
          "data": {
            "text/plain": [
              "array([[1.        , 0.81328617],\n",
              "       [0.81328617, 1.        ]])"
            ]
          },
          "metadata": {},
          "execution_count": 156
        }
      ]
    },
    {
      "cell_type": "markdown",
      "metadata": {
        "id": "sfh9mL-nUD6K"
      },
      "source": [
        "*12. feladat*\n",
        "\n",
        "Írja meg azt a kódot, amely megadja kiszámolja a korrelációmátrixot a sebesség és az üzemanyagfogyasztás között!"
      ]
    },
    {
      "cell_type": "code",
      "metadata": {
        "id": "m3XLldNdT_ks",
        "colab": {
          "base_uri": "https://localhost:8080/"
        },
        "outputId": "4ef2baa8-1b10-4403-f5fd-43dba4d31824"
      },
      "source": [
        "# ...IDE JÖN A KÓD...\n",
        "np.corrcoef(data['speed'], data['avg.cons.'])"
      ],
      "execution_count": null,
      "outputs": [
        {
          "output_type": "execute_result",
          "data": {
            "text/plain": [
              "array([[ 1.        , -0.42431058],\n",
              "       [-0.42431058,  1.        ]])"
            ]
          },
          "metadata": {},
          "execution_count": 158
        }
      ]
    },
    {
      "cell_type": "markdown",
      "metadata": {
        "id": "88lhN9bgUi_A"
      },
      "source": [
        "**Scatterplottól a többdimenziós ábrákig**"
      ]
    },
    {
      "cell_type": "code",
      "metadata": {
        "id": "D8cekN2VUSkk",
        "colab": {
          "base_uri": "https://localhost:8080/",
          "height": 430
        },
        "outputId": "14be0e1b-6e10-40b3-9084-a463f46c5cf2"
      },
      "source": [
        "plt.scatter(data['speed'], data['avg.cons.']);"
      ],
      "execution_count": null,
      "outputs": [
        {
          "output_type": "display_data",
          "data": {
            "text/plain": [
              "<Figure size 640x480 with 1 Axes>"
            ],
            "image/png": "[encoded data removed]"
          },
          "metadata": {}
        }
      ]
    },
    {
      "cell_type": "markdown",
      "metadata": {
        "id": "hHDXmwFTU4km"
      },
      "source": [
        "A következő ábrán színekkel jelöljük a forgalmi viszonyokat, de csak azokat az eseteket ábrázoljuk, ahol a fogyasztás 10l/100km alatti"
      ]
    },
    {
      "cell_type": "code",
      "metadata": {
        "id": "-OFtrhV4UqVo",
        "colab": {
          "base_uri": "https://localhost:8080/",
          "height": 430
        },
        "outputId": "acbb5ad5-5e8e-4c41-dec6-74419b0f8fb4"
      },
      "source": [
        "relevant_data = data[data['avg.cons.']<10]\n",
        "\n",
        "colors = []\n",
        "for tr in relevant_data['trafic']:\n",
        "    if tr == 'low':\n",
        "        colors.append('g')\n",
        "    elif tr == 'normal':\n",
        "        colors.append('b')\n",
        "    else:\n",
        "        colors.append('r')\n",
        "\n",
        "plt.scatter(relevant_data['speed'],\n",
        "            relevant_data['avg.cons.'],\n",
        "            c = colors);"
      ],
      "execution_count": null,
      "outputs": [
        {
          "output_type": "display_data",
          "data": {
            "text/plain": [
              "<Figure size 640x480 with 1 Axes>"
            ],
            "image/png": "[encoded data removed]"
          },
          "metadata": {}
        }
      ]
    },
    {
      "cell_type": "markdown",
      "metadata": {
        "id": "ID0vd9DBVfgI"
      },
      "source": [
        "*13. feladat*\n",
        "\n",
        "Hozzon létre egy új attribútumot (oszlopot), amely az átlagos hőmérsékletet (indulási és érkezéskori hőmérsékletek átlagát) tartalmazza!"
      ]
    },
    {
      "cell_type": "code",
      "metadata": {
        "id": "47UVNbTMVLpQ",
        "colab": {
          "base_uri": "https://localhost:8080/",
          "height": 397
        },
        "outputId": "a8d73243-2952-46c1-b2f3-82c1f606bb8f"
      },
      "source": [
        " # ...IDE JÖN A KÓD...\n",
        "data['temp'] =data[['starttemp', 'endtemp']].mean(axis=1)\n",
        "data['temp'].head(10)"
      ],
      "execution_count": null,
      "outputs": [
        {
          "output_type": "execute_result",
          "data": {
            "text/plain": [
              "0    16.0\n",
              "1    21.5\n",
              "2    29.0\n",
              "3    28.5\n",
              "4    27.5\n",
              "5    25.0\n",
              "6    21.0\n",
              "7    28.5\n",
              "8    23.0\n",
              "9    27.0\n",
              "Name: temp, dtype: float64"
            ],
            "text/html": [
              "<div>\n",
              "<style scoped>\n",
              "    .dataframe tbody tr th:only-of-type {\n",
              "        vertical-align: middle;\n",
              "    }\n",
              "\n",
              "    .dataframe tbody tr th {\n",
              "        vertical-align: top;\n",
              "    }\n",
              "\n",
              "    .dataframe thead th {\n",
              "        text-align: right;\n",
              "    }\n",
              "</style>\n",
              "<table border=\"1\" class=\"dataframe\">\n",
              "  <thead>\n",
              "    <tr style=\"text-align: right;\">\n",
              "      <th></th>\n",
              "      <th>temp</th>\n",
              "    </tr>\n",
              "  </thead>\n",
              "  <tbody>\n",
              "    <tr>\n",
              "      <th>0</th>\n",
              "      <td>16.0</td>\n",
              "    </tr>\n",
              "    <tr>\n",
              "      <th>1</th>\n",
              "      <td>21.5</td>\n",
              "    </tr>\n",
              "    <tr>\n",
              "      <th>2</th>\n",
              "      <td>29.0</td>\n",
              "    </tr>\n",
              "    <tr>\n",
              "      <th>3</th>\n",
              "      <td>28.5</td>\n",
              "    </tr>\n",
              "    <tr>\n",
              "      <th>4</th>\n",
              "      <td>27.5</td>\n",
              "    </tr>\n",
              "    <tr>\n",
              "      <th>5</th>\n",
              "      <td>25.0</td>\n",
              "    </tr>\n",
              "    <tr>\n",
              "      <th>6</th>\n",
              "      <td>21.0</td>\n",
              "    </tr>\n",
              "    <tr>\n",
              "      <th>7</th>\n",
              "      <td>28.5</td>\n",
              "    </tr>\n",
              "    <tr>\n",
              "      <th>8</th>\n",
              "      <td>23.0</td>\n",
              "    </tr>\n",
              "    <tr>\n",
              "      <th>9</th>\n",
              "      <td>27.0</td>\n",
              "    </tr>\n",
              "  </tbody>\n",
              "</table>\n",
              "</div><br><label><b>dtype:</b> float64</label>"
            ]
          },
          "metadata": {},
          "execution_count": 169
        }
      ]
    },
    {
      "cell_type": "markdown",
      "metadata": {
        "id": "f_VQCx2lV_Ui"
      },
      "source": [
        "A következőkben egy 3D ábrán egyszerre fogjuk ábrázolni a sebességet, fogyasztást és a hőmérsékletet."
      ]
    },
    {
      "cell_type": "code",
      "metadata": {
        "id": "w0Q5WEPjVxFS",
        "colab": {
          "base_uri": "https://localhost:8080/",
          "height": 419
        },
        "outputId": "9a039da2-81be-4473-8677-53b05de572a8"
      },
      "source": [
        "from mpl_toolkits.mplot3d import Axes3D\n",
        "fig = plt.figure()\n",
        "ax = fig.add_subplot(111, projection='3d')\n",
        "ax.scatter(data['speed'], data['avg.cons.'], data['temp'])\n",
        "plt.show()"
      ],
      "execution_count": null,
      "outputs": [
        {
          "output_type": "display_data",
          "data": {
            "text/plain": [
              "<Figure size 640x480 with 1 Axes>"
            ],
            "image/png": "[encoded data removed]"
          },
          "metadata": {}
        }
      ]
    },
    {
      "cell_type": "markdown",
      "metadata": {
        "id": "70aSrTd9Wm-3"
      },
      "source": [
        "\n",
        "\n",
        "...szín segítségével megjelenítjük az üzemanyag típusát:\n",
        "\n"
      ]
    },
    {
      "cell_type": "code",
      "metadata": {
        "id": "cJShuwiTWHIj",
        "colab": {
          "base_uri": "https://localhost:8080/",
          "height": 419
        },
        "outputId": "c3aef876-bbc9-49c5-901f-8b3ebcbc5c80"
      },
      "source": [
        "from mpl_toolkits.mplot3d import Axes3D\n",
        "fig = plt.figure()\n",
        "ax = fig.add_subplot(111, projection='3d')\n",
        "colors = []\n",
        "for i in range(len(data)):\n",
        "    if data['fuel type'][i]=='95+':\n",
        "        colors.append('r')\n",
        "    else:\n",
        "        colors.append('b')\n",
        "ax.scatter(data['speed'], data['avg.cons.'], data['temp'], c = colors)\n",
        "ax.set_xlabel('speed')\n",
        "ax.set_ylabel('avg.cons')\n",
        "ax.set_zlabel('temp')\n",
        "plt.show()"
      ],
      "execution_count": null,
      "outputs": [
        {
          "output_type": "display_data",
          "data": {
            "text/plain": [
              "<Figure size 640x480 with 1 Axes>"
            ],
            "image/png": "[encoded data removed]"
          },
          "metadata": {}
        }
      ]
    },
    {
      "cell_type": "markdown",
      "metadata": {
        "id": "ed-o9v0xXFoL"
      },
      "source": [
        "...a jelölő (marker) típusával pedig a forgalmi viszonyokat:"
      ]
    },
    {
      "cell_type": "code",
      "metadata": {
        "id": "xI2dbUIvWoaF",
        "colab": {
          "base_uri": "https://localhost:8080/",
          "height": 419
        },
        "outputId": "3364b5ce-5dd7-4062-c7ae-4e77c0ef3ba4"
      },
      "source": [
        "from mpl_toolkits.mplot3d import Axes3D\n",
        "fig = plt.figure()\n",
        "ax = fig.add_subplot(111, projection='3d')\n",
        "colors = []\n",
        "m=[]\n",
        "for i in range(len(data)):\n",
        "    if data['fuel type'][i]=='95+':\n",
        "        colors.append('r')\n",
        "    else:\n",
        "        colors.append('b')\n",
        "\n",
        "for j in range(len(data)):\n",
        "    if data['trafic'][j] =='low':\n",
        "        ax.scatter(data['speed'][j], data['avg.cons.'][j], data['temp'][j],\n",
        "           c = colors[j], marker = 'o')\n",
        "    elif data['trafic'][j] =='normal':\n",
        "        ax.scatter(data['speed'][j], data['avg.cons.'][j], data['temp'][j],\n",
        "           c = colors[j], marker = 'x')\n",
        "    else:\n",
        "        ax.scatter(data['speed'][j], data['avg.cons.'][j], data['temp'][j],\n",
        "           c = colors[j], marker = '^')\n",
        "plt.show()"
      ],
      "execution_count": null,
      "outputs": [
        {
          "output_type": "display_data",
          "data": {
            "text/plain": [
              "<Figure size 640x480 with 1 Axes>"
            ],
            "image/png": "[encoded data removed]"
          },
          "metadata": {}
        }
      ]
    },
    {
      "cell_type": "markdown",
      "metadata": {
        "id": "i8oKoRxqZtoM"
      },
      "source": [
        "**Összefoglalás**\n",
        "\n",
        "Tipikus előfeldolgozási (adattiszttítási) lépések:\n",
        "- Hiányzó értékek kezelése\n",
        "- Duplikátumok eliminálása\n",
        "- Inkonzisztens (hibás) értékek javítása\n",
        "- Adatok kiválasztása: a későbbi elemzés szempontjából lényeges sorok=példányok=rekordok kiválasztása, valamint oszlopok=attribútumok=leírók=feature-k kiválasztása, új attribútumok létrehozása (pl. 'temp'), dimenzionalitás csökkentése (pl. PCA-val, nem volt róla szó).  \n",
        "- Normalizálás (nem volt róla szó)\n",
        "- Szélsőséges értékek keresése\n",
        "\n",
        "Az előfeldolgozás közben (vagy akár előtte ill. utána is) hasznos az adatainkat ábrázolni, különféle leíró statisztikákat számolni, hogy minél jobban megértsük az adatokat.\n",
        "\n",
        "Az előfeldolgozási lépések projektről-projektre változhatnak, mindig azt használjuk, ami az adott esetben ésszerű! Nem volt szó domain-specifikus előfeldolgozáról (pl. képek esetén azonos felbontásra alakításról)."
      ]
    },
    {
      "cell_type": "code",
      "metadata": {
        "id": "xLqYoZO-XDBq"
      },
      "source": [],
      "execution_count": null,
      "outputs": []
    }
  ]
}